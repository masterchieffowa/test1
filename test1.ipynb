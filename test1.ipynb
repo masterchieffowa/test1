{
 "cells": [
  {
   "cell_type": "code",
   "execution_count": 1,
   "metadata": {},
   "outputs": [],
   "source": [
    "import numpy as np\n",
    "import pandas as pd\n",
    "import matplotlib.pyplot as plt\n",
    "import tabula\n",
    "from tabula import read_pdf\n",
    "from tabulate import tabulate"
   ]
  },
  {
   "cell_type": "code",
   "execution_count": 2,
   "metadata": {},
   "outputs": [],
   "source": [
    "# pdf_path =\"Mahmoud Adel.pdf\"\n",
    "# dfs = tabula.read_pdf(pdf_path, pages='1-6', multiple_tables=True)"
   ]
  },
  {
   "cell_type": "code",
   "execution_count": 20,
   "metadata": {},
   "outputs": [
    {
     "name": "stdout",
     "output_type": "stream",
     "text": [
      "------------------------------------------------------  ----------------------------------  -----------------------------------------------  ------------------------------------  ------------------------------------------------------------------------------------------------------------------------  -----------------------------------------------  -------------------------------------------------------  ------------------------------------------  ----------------------------------------------------------------------------------------------------------------------------------------------------------------------------------------------------------------------------------------------------------------------------------------------------------------------------------------------------------------------------------------------------------------------------------------------------------------------------------------------------------------------------------------------------------------------------------------------------------------------------------------------------------------------------------------------------------------------------------------------------------------------------------------------------------------------------------------------------------------------------------------------------------------------------------------------------------------------------------------------------------------------------------------------------------------------------------------------------------------------------------------------------------------------------------------------------------------------------------------------------------------------------------------------------------------------------------------------------------------------------------------------------------------------------------------------------------------------------------------------------------------------------------------------------------------------------------------------------------------------------------------------------------------------------------------------------------------------------------------------------  -------------------------------\n",
      "0                            Blood Viscosity            0     48.264 -\\r65.371              0     66.898                                     0    NaN\n",
      "1                        Cholesterol Crystal            1     56.749 -\\r67.522              1     64.253                                     1    NaN\n",
      "2                                  Blood Fat            2       0.481 -\\r1.043              2      1.482                                     2    NaN\n",
      "3                        Vascular Resistance            3       0.327 -\\r0.937              3      1.397                                     3    NaN\n",
      "4                        Vascular Elasticity            4       1.672 -\\r1.978              4      1.535                                     4    NaN\n",
      "5                    Myocardial Blood Demand            5       0.192 -\\r0.412              5      0.475                                     5    NaN\n",
      "6         Myocardial Blood Perfusion\\rVolume            6       4.832 -\\r5.147              6      4.518                                     6    NaN\n",
      "7             Myocardial Oxygen\\rConsumption            7       3.321 -\\r4.244              7      3.499                                     7    NaN\n",
      "8                              Stroke Volume            8       1.338 -\\r1.672              8      1.333                                     8    NaN\n",
      "9       Left Ventricular Ejection\\rImpedance            9       0.669 -\\r1.544              9      1.263                                     9    NaN\n",
      "10    Left Ventricular Effective\\rPump Power            10      1.554 -\\r1.988              10     1.349                                     10   NaN\n",
      "11                Coronary Artery Elasticity            11      1.553 -\\r2.187              11     1.281                                     11   NaN\n",
      "12               Coronary Perfusion Pressure            12    11.719 -\\r18.418              12    13.956                                     12   NaN\n",
      "13         Cerebral Blood Vessel\\rElasticity            13      0.708 -\\r1.942              13     1.757                                     13   NaN\n",
      "14         Brain Tissue Blood Supply\\rStatus            14     6.138 -\\r21.396              14     7.742                                     14   NaN\n",
      "Name: Testing Item, dtype: object                       Name: Normal\\rRange, dtype: object  Name: Actual Measurement\\rValue, dtype: float64  Name: Testing Result, dtype: float64\n",
      "                                                                                                                                                                                   0                                       gene mutations.\n",
      "                                                                                                                                                                                   1     2. Secondary Hyperlipoproteinemia: refers to h...\n",
      "                                                                                                                                                                                   2     or drugs, such as hyperlipidemia caused by dia...\n",
      "                                                                                                                                                                                   3     chronic renal failure and acute renal failure ...\n",
      "                                                                                                                                                                                   4     (1) Increase is seen in idiopathic hyperlipide...\n",
      "                                                                                                                                                                                   5                                                  etc.\n",
      "                                                                                                                                                                                   6     (2) Reduction is seen in ferrite decreased imm...\n",
      "                                                                                                                                                                                   7     (3) Decline is seen in decline of cerebral art...\n",
      "                                                                                                                                                                                   8                         cerebrovascular disease aura.\n",
      "                                                                                                                                                                                   9                                  Vascular Resistance:\n",
      "                                                                                                                                                                                   10    Increase is in direct proportion to the length...\n",
      "                                                                                                                                                                                   11    caliber of blood vessels. The increase of vasc...\n",
      "                                                                                                                                                                                   12    diastolic blood pressure, mild hypertension, i...\n",
      "                                                                                                                                                                                   13    phlegm-heat internal confusion type insomnia, ...\n",
      "                                                                                                                                                                                   14    Decline is seen in mildly declined systolic an...\n",
      "                                                                                                                                                                                   15    deficiency and Huo exuberance type insomnia, etc.\n",
      "                                                                                                                                                                                   16    Vascular Elasticity:refers to the expansion ex...\n",
      "                                                                                                                                                                                   17                                            ejection.\n",
      "                                                                                                                                                                                   18    Influence Factors: (1) The size of SV. The gre...\n",
      "                                                                                                                                                                                   19    rate. The faster the emptying rate is, the sma...\n",
      "                                                                                                                                                                                   20    The SV is not low, the emptying rate is not fa...\n",
      "                                                                                                                                                                                   21    determine the possibility of hardening of bloo...\n",
      "                                                                                                                                                                                   22    a single parameter. The increase of vascular e...\n",
      "                                                                                                                                                                                   23    pressure, the mildly reduced diastolic blood p...\n",
      "                                                                                                                                                                                   24    higher blood pressure. The decline is seen in ...\n",
      "                                                                                                                                                                                   25    stagnation type chest pain, Yang Qi deficiency...\n",
      "                                                                                                                                                                                   26    Myocardial Blood Demand:The blood demand per m...\n",
      "                                                                                                                                                                                   27    Myocardial Blood Perfusion Volume:The actual b...\n",
      "                                                                                                                                                                                   28                                  perfusion of heart.\n",
      "                                                                                                                                                                                   29    Myocardial Oxygen Consumption:The milliliter v...\n",
      "                                                                                                                                                                                   30                                              minute.\n",
      "                                                                                                                                                                                   31                     Influence Factors: Three aspects\n",
      "                                                                                                                                                                                   32    (1) Heart rate: the heart rate is fast, and th...\n",
      "                                                                                                                                                                                   33    (2)(2) Myocardial contractility: the cardiac c...\n",
      "                                                                                                                                                                                   34    (3) Myocardial contraction time: the longer th...\n",
      "                                                                                                                                                                                   35    Thus, low oxygen consumption and high cardiac ...\n",
      "                                                                                                                                                                                   36    Stroke Volume:The blood volume output by the h...\n",
      "                                                                                                                                                                                   37                      Influence Factors: Five aspects\n",
      "                                                                                                                                                                                   38    (1) The effective circulating blood volume (BV...\n",
      "                                                                                                                                                                                   39    returned blood volume is little, and the SV is...\n",
      "                                                                                                                                                                                   40    (2) The weakening of myocardial contractility:...\n",
      "                                                                                                                                                                                   41                    the ejected blood volume is less.\n",
      "                                                                                                                                                                                   42    (3) The extent of ventricular filling: In rang...\n",
      "                                                                                                                                                                                   43    filling is, the stronger the retraction is, an...\n",
      "                                                                                                                                                                                   44    capacity is 173ml, but not all of the blood is...\n",
      "                                                                                                                                                                                   45    about 60% -70% of the total capacity, being ab...\n",
      "                                                                                                                                                                                   46                               average SV is 80-90ml.\n",
      "                                                                                                                                                                                   47    (4) The size of peripheral vascular resistance...\n",
      "                                                                                                                                                                                   48       the PR is small, and then the SV is increased.\n",
      "                                                                                                                                                                                   49                         (5) Ventricle wall movement.\n",
      "                                                                                                                                                                                   50    When the ventricle is contracted, the cardiac ...\n",
      "                                                                                                                                                                                   51    myocardial contraction is not coordinated, the...\n",
      "                                                                                                                                                                                   52    myocardial infarction have part of infarction,...\n",
      "                                                                                                                                                                                   53    the SV is reduced. However, under normal circu...\n",
      "                                                                                                                                                                                   54                                            abnormal.\n",
      "                                                                                                                                                                                   55    Left Ventricular Ejection Impedance:reflects t...\n",
      "                                                                                                                                                                                   56                         ventricular outflow channel.\n",
      "                                                                                                                                                                                   Name: unknown cause related to certain environmental factors (including diet, nutrition, drugs, etc.), or, dtype: object\n",
      "0                         Pepsin Secretion Coefficient  0      59.847 -\\r65.234                                                              0   NaN                                                                                                                                                         0     64.649\n",
      "1            Gastric Peristalsis Function\\rCoefficient  1      58.425 -\\r61.213                                                              1   NaN                                                                                                                                                         1     57.482\n",
      "2             Gastric Absorption Function\\rCoefficient  2      34.367 -\\r35.642                                                              2   NaN                                                                                                                                                         2     34.777\n",
      "3    Small Intestine Peristalsis\\rFunction Coefficient  3    133.437 -\\r140.476                                                              3   NaN                                                                                                                                                         3    126.901\n",
      "4     Small Intestine Absorption\\rFunction Coefficient  4         3.572 - 6.483                                                              4   NaN                                                                                                                                                         4      2.371\n",
      "Name: Testing Item, dtype: object                       Name: Normal\\rRange, dtype: object                                                   Name: Testing Result, dtype: float64                                                                                                                            Name: Actual\\rMeasurement Value, dtype: float64\n",
      "                                                                                                                                                                                                                                                                                                                                                              0    Pepsin Secretion Coefficient:\\rThe stomach has...\n",
      "                                                                                                                                                                                                                                                                                                                                                              Name: Parameter Description, dtype: object\n",
      "0    Large intestine peristalsis\\rfunction coefficient  0    4.572 -\\r6.483                 0    3.873                                       0   NaN\n",
      "1                       Colonic absorption coefficient  1    2.946 -\\r3.815                 1    1.967                                       1   NaN\n",
      "2                      Intestinal bacteria coefficient  2    1.734 -\\r2.621                 2    0.989                                       2   NaN\n",
      "3                   Intraluminal pressure\\rcoefficient  3    1.173 -\\r2.297                 3    1.948                                       3   NaN\n",
      "Name: Testing Item, dtype: object                       Name: Normal\\rRange, dtype: object  Name: Actual Measurement\\rValue, dtype: float64  Name: Testing Result, dtype: float64\n",
      "                                                                                                                                                                                                                                                                                                                                                              0    Large intestine peristalsis function coefficie...\n",
      "                                                                                                                                                                                                                                                                                                                                                              1    Colonic absorption coefficient:\\rThe absorptio...\n",
      "                                                                                                                                                                                                                                                                                                                                                              2    Intestinal bacteria coefficient:\\rIntestinal b...\n",
      "                                                                                                                                                                                                                                                                                                                                                              Name: Parameter Description, dtype: object\n",
      "0             Protein Metabolism                        0    116.34 -\\r220.621              0    219.126                                     0   NaN\n",
      "1    Energy Production\\rFunction                        1        0.713 - 0.992              1      0.756                                     1   NaN\n",
      "2        Detoxification Function                        2        0.202 - 0.991              2      0.796                                     2   NaN\n",
      "3        Bile Secretion Function                        3        0.432 - 0.826              3      0.401                                     3   NaN\n",
      "4              Liver Fat Content                        4        0.097 - 0.419              4      0.151                                     4   NaN\n",
      "Name: Testing Item, dtype: object                       Name: Normal\\rRange, dtype: object  Name: Actual Measurement\\rValue, dtype: float64  Name: Testing Result, dtype: float64\n",
      "                                                                                                                                                                                                                                                                                                                                                              0    Protein Metabolism:\\rProtein in food is digest...\n",
      "                                                                                                                                                                                                                                                                                                                                                              1    Energy Production Function:\\rAfter carbohydrat...\n",
      "                                                                                                                                                                                                                                                                                                                                                              2    Detoxification Function:\\rFood will produce so...\n",
      "                                                                                                                                                                                                                                                                                                                                                              Name: Parameter Description, dtype: object\n",
      "0            Serum Globulin (A/G)                       0        126 - 159                  0    141.165                                     0   NaN\n",
      "1          Total Bilirubin (TBIL)                       1    0.232 - 0.686                  1      0.445                                     1   NaN\n",
      "2     Alkaline Phosphatase\\r(ALP)                       2    0.082 - 0.342                  2      0.244                                     2   NaN\n",
      "3    Serum Total Bile Acid\\r(TBA)                       3    0.317 - 0.695                  3      0.775                                     3   NaN\n",
      "4                Bilirubin (DBIL)                       4    0.218 - 0.549                  4      0.228                                     4   NaN\n",
      "Name: Testing Item, dtype: object                       Name: Normal\\rRange, dtype: object  Name: Actual Measurement\\rValue, dtype: float64  Name: Testing Result, dtype: float64\n",
      "0                         Insulin                       0    2.845 - 4.017                  0    2.992                                       0   NaN\n",
      "1    Pancreatic Polypeptide\\r(PP)                       1    3.210 - 6.854                  1    5.800                                       1   NaN\n",
      "2                        Glucagon                       2    2.412 - 2.974                  2    2.636                                       2   NaN\n",
      "Name: Testing Item, dtype: object                       Name: Normal\\rRange, dtype: object  Name: Actual Measurement\\rValue, dtype: float64  Name: Testing Result, dtype: float64\n",
      "                                                                                                                                                                                                                                                                                                                                                              0    Insulin:\\rIt is a protein with smaller molecul...\n",
      "                                                                                                                                                                                                                                                                                                                                                              1                              Pancreatic Polypeptide:\n",
      "                                                                                                                                                                                                                                                                                                                                                              Name: Parameter Description, dtype: object\n",
      "0                 Urobilinogen Index                    0    2.762 - 5.424                  0    4.261                                       0   NaN\n",
      "1                    Uric acid Index                    1    1.435 - 1.987                  1    1.606                                       1   NaN\n",
      "2    Blood urea nitrogen(BUN)\\rIndex                    2    4.725 - 8.631                  2    5.884                                       2   NaN\n",
      "3                  Proteinuria Index                    3    1.571 - 4.079                  3    2.933                                       3   NaN\n",
      "Name: Testing Item, dtype: object                       Name: Normal\\rRange, dtype: object  Name: Actual Measurement\\rValue, dtype: float64  Name: Testing Result, dtype: float64\n",
      "                                                                                                                                                                                                                                                                                                                                                              0    Urobilinogen Index:\\rUrobilinogen is a colourl...\n",
      "                                                                                                                                                                                                                                                                                                                                                              1    Uric acid Index:\\rIn human blood plasma, the r...\n",
      "                                                                                                                                                                                                                                                                                                                                                              2    Blood urea nitrogen(BUN) Index:\\rBlood urea ni...\n",
      "                                                                                                                                                                                                                                                                                                                                                              Name: Parameter Description, dtype: object\n",
      "0                 Vital Capacity VC                     0         3348 - 3529               0    3592.987                                    0   NaN\n",
      "1           Total Lung Capacity TLC                     1         4301 - 4782               1    4793.051                                    1   NaN\n",
      "2             Airway Resistance RAM                     2       1.374 - 1.709               2       1.628                                    2   NaN\n",
      "3    Arterial Oxygen Content\\rPaCO2                     3    17.903 -\\r21.012               3      21.350                                    3   NaN\n",
      "Name: Testing Item, dtype: object                       Name: Normal\\rRange, dtype: object  Name: Actual Measurement\\rValue, dtype: float64  Name: Testing Result, dtype: float64\n",
      "0    Status of Brain Tissue Blood\\rSupply               0    143.37 -\\r210.81               0    175.312                                     0   NaN\n",
      "1               Cerebral Arteriosclerosis               1      0.103 -\\r0.642               1      0.601                                     1   NaN\n",
      "2     Functional Status of Cranial\\rNerve               2      0.253 -\\r0.659               2      0.546                                     2   NaN\n",
      "3                         Sentiment Index               3      0.109 -\\r0.351               3      0.283                                     3   NaN\n",
      "4                        Memory Index(ZS)               4      0.442 -\\r0.817               4      0.523                                     4   NaN\n",
      "Name: Testing Item, dtype: object                       Name: Normal\\rRange, dtype: object  Name: Actual Measurement\\rValue, dtype: float64  Name: Testing Result, dtype: float64\n",
      "                                                                                                                                                                                                                                                                                                                                                                                                                       Series([], Name: Unnamed: 0, dtype: int64)\n",
      "                                                                                                                                                                                                                                                                                                                                                              0                  Status of Brain Tissue Blood Supply:\n",
      "                                                                                                                                                                                                                                                                                                                                                              1     Cerebral microcirculation usually refers to th...\n",
      "                                                                                                                                                                                                                                                                                                                                                              2     small arteries, capillaries and small veins. H...\n",
      "                                                                                                                                                                                                                                                                                                                                                              3     been widely accepted, and it is not clear whet...\n",
      "                                                                                                                                                                                                                                                                                                                                                              4     the lumen diameter > 150 (m) belong to the mic...\n",
      "                                                                                                                                                                                                                                                                                                                                                              5     accordance with the vascular physiology, namel...\n",
      "                                                                                                                                                                                                                                                                                                                                                              6     pressure inside the lumen, rather than in acco...\n",
      "                                                                                                                                                                                                                                                                                                                                                              7     this definition, all those arteries whose lume...\n",
      "                                                                                                                                                                                                                                                                                                                                                              8     elevated pressure, and capillaries and small v...\n",
      "                                                                                                                                                                                                                                                                                                                                                              9     primary function of microcirculation is to mak...\n",
      "                                                                                                                                                                                                                                                                                                                                                              10    change following with the change in demand; th...\n",
      "                                                                                                                                                                                                                                                                                                                                                              11    fluctuation of hydrostatic pressure in capilla...\n",
      "                                                                                                                                                                                                                                                                                                                                                              12    finally, the hydrostatic pressure is significa...\n",
      "                                                                                                                                                                                                                                                                                                                                                              13    microcirculation has an extremely important ro...\n",
      "                                                                                                                                                                                                                                                                                                                                                              14    addition, the microcirculation is also the fir...\n",
      "                                                                                                                                                                                                                                                                                                                                                              15                            the inflammatory process.\n",
      "                                                                                                                                                                                                                                                                                                                                                              16                           Cerebral Arteriosclerosis:\n",
      "                                                                                                                                                                                                                                                                                                                                                              17    Due to atherosclerosis, a variety of arterial ...\n",
      "                                                                                                                                                                                                                                                                                                                                                              18    diseases caused by other physical factors and ...\n",
      "                                                                                                                                                                                                                                                                                                                                                              19    greater to lead to the occurrence of ischemic ...\n",
      "                                                                                                                                                                                                                                                                                                                                                              20    attack whose diseased causes are related to ce...\n",
      "                                                                                                                                                                                                                                                                                                                                                              21    caused by transient, ischemic and focal brain ...\n",
      "                                                                                                                                                                                                                                                                                                                                                              22    caused by the blocking of formed blood clots. ...\n",
      "                                                                                                                                                                                                                                                                                                                                                              23    that emboli resulting from a variety of diseas...\n",
      "                                                                                                                                                                                                                                                                                                                                                              24    the brain. In clinic, heart diseases are the m...\n",
      "                                                                                                                                                                                                                                                                                                                                                              25    fat into the blood after fractures, or trauma;...\n",
      "                                                                                                                                                                                                                                                                                                                                                              26    blood of pneumothorax and others, emboli forme...\n",
      "                                                                                                                                                                                                                                                                                                                                                              27    blood vessels. The vessels in the brain surfac...\n",
      "                                                                                                                                                                                                                                                                                                                                                              28    hemorrhage, and cerebral hemorrhage caused by ...\n",
      "                                                                                                                                                                                                                                                                                                                                                              29                hemorrhagic cerebrovascular diseases.\n",
      "                                                                                                                                                                                                                                                                                                                                                              30                  Functional Status of Cranial Nerve:\n",
      "                                                                                                                                                                                                                                                                                                                                                              31    Cranial nerve system can be divided into three...\n",
      "                                                                                                                                                                                                                                                                                                                                                              32    introduces the information out of the body to ...\n",
      "                                                                                                                                                                                                                                                                                                                                                              33    The second part, which carries out processing ...\n",
      "                                                                                                                                                                                                                                                                                                                                                              34    as the central nervous system, namely the majo...\n",
      "                                                                                                                                                                                                                                                                                                                                                              35    muscles, internal organs and glands, is called...\n",
      "                                                                                                                                                                                                                                                                                                                                                              36    decision in the brain. The third part also inc...\n",
      "                                                                                                                                                                                                                                                                                                                                                              37    person to enter or dissolve the ready and oper...\n",
      "                                                                                                                                                                                                                                                                                                                                                              38    The communication among the nerve cells of the...\n",
      "                                                                                                                                                                                                                                                                                                                                                              39    connection networks among cranial nerve cells....\n",
      "                                                                                                                                                                                                                                                                                                                                                              40    cranial nerve cells, and almost each person ha...\n",
      "                                                                                                                                                                                                                                                                                                                                                              41    networks among cranial nerve cells determines ...\n",
      "                                                                                                                                                                                                                                                                                                                                                              42    cranial nerve cell is connected with 1000-2000...\n",
      "                                                                                                                                                                                                                                                                                                                                                              43    other is neurotransmitter. Message transmissio...\n",
      "                                                                                                                                                                                                                                                                                                                                                              44    guanidine line, but message transmission betwe...\n",
      "                                                                                                                                                                                                                                                                                                                                                              45    biological or chemical substances manufactured...\n",
      "                                                                                                                                                                                                                                                                                                                                                              46    A cranial nerve cell releases a kind of neurot...\n",
      "                                                                                                                                                                                                                                                                                                                                                              47    other cranial nerve cells, and the 15000 linke...\n",
      "                                                                                                                                                                                                                                                                                                                                                              48    guanidine lines after receiving the neurotrans...\n",
      "                                                                                                                                                                                                                                                                                                                                                              49    linked cranial nerve cells send the massage to...\n",
      "                                                                                                                                                                                                                                                                                                                                                              50    continue. Now, these neurotransmitters have be...\n",
      "                                                                                                                                                                                                                                                                                                                                                              51    neurotransmitters have only 8 or 9 kinds. Thes...\n",
      "                                                                                                                                                                                                                                                                                                                                                              52    body to maintain or change their status, and a...\n",
      "                                                                                                                                                                                                                                                                                                                                                              53                                     Sentiment Index:\n",
      "                                                                                                                                                                                                                                                                                                                                                              54    Sentiment is people's experience of attitude t...\n",
      "                                                                                                                                                                                                                                                                                                                                                              55    people's needs are satisfied. Sentiment is div...\n",
      "                                                                                                                                                                                                                                                                                                                                                              56    sentiment. The positive sentiment can enhance ...\n",
      "                                                                                                                                                                                                                                                                                                                                                              57    improving quality of life; the negative sentim...\n",
      "                                                                                                                                                                                                                                                                                                                                                              58    apathy, etc. is harmful for physical and menta...\n",
      "                                                                                                                                                                                                                                                                                                                                                              59    life practice show that the bad sentiment can ...\n",
      "                                                                                                                                                                                                                                                                                                                                                              Name: Parameter Description, dtype: object\n",
      "                                                                                                                                                                                                                                                                                                                                                                                                                       0    Normal Range                           0                          Testing Item                                                                                                                                                                                                                                                                                                                                                                                                                                                                                                                                                                                                                                                                                                                                                                                                                                                                                                                                                                                                                                                                                                                                                                                                                                                                                                                                                                                                                                                                                                                                                                                                                                                                                                               0    Actual Measurement Value\n",
      "                                                                                                                                                                                                                                                                                                                                                                                                                       1    No Direction                           1     Lumbar Fiber Protruding Dimension                                                                                                                                                                                                                                                                                                                                                                                                                                                                                                                                                                                                                                                                                                                                                                                                                                                                                                                                                                                                                                                                                                                                                                                                                                                                                                                                                                                                                                                                                                                                                                                                                                                                                                               1                No Direction\n",
      "                                                                                                                                                                                                                                                                                                                                                                                                                       2         < u 0.2                           2    Adhesion Degree of Shoulder Muscle                                                                                                                                                                                                                                                                                                                                                                                                                                                                                                                                                                                                                                                                                                                                                                                                                                                                                                                                                                                                                                                                                                                                                                                                                                                                                                                                                                                                                                                                                                                                                                                                                                                                                                               2                      u 0.16\n",
      "                                                                                                                                                                                                                                                                                                                                                                                                                       3               +                           3               Limbs Circulation Limit                                                                                                                                                                                                                                                                                                                                                                                                                                                                                                                                                                                                                                                                                                                                                                                                                                                                                                                                                                                                                                                                                                                                                                                                                                                                                                                                                                                                                                                                                                                                                                                                                                                                                                               3                           +\n",
      "                                                                                                                                                                                                                                                                                                                                                                                                                       4         10%-40%                           4                       Age of Ligament                                                                                                                                                                                                                                                                                                                                                                                                                                                                                                                                                                                                                                                                                                                                                                                                                                                                                                                                                                                                                                                                                                                                                                                                                                                                                                                                                                                                                                                                                                                                                                                                                                                                                                               4                         32%\n",
      "                                                                                                                                                                                                                                                                                                                                                                                                                       Name: Unnamed: 0, dtype: object             Name: (Bone Disease) Analysis Report Card\\rName: Mahmoud AdelSex: MaleAge: 21\\rFigure: 170cm, 58kgTesting Time: 8/17/2022 13:32\\rActual Testing Results\\rTesting ItemNormal RangeActual Measurement Value\\rLumbar Fiber Protruding DimensionNo DirectionNo Direction\\rAdhesion Degree of Shoulder Muscle< u 0.2u 0.16\\rLimbs Circulation Limit++\\rAge of Ligament10%-40%32%\\rTesting Term Description:\\r1. Lumbar Fiber Protruding Dimension: it shows the lumbar fiber cycle or the nucleus pulposus\\rprotrudes toward one side of the body or protrudes near the side. Generally, the common case is\\rthat the left side compress the equina of the right side. No direction is normal.\\r2. Adhesion Degree of Shoulder Muscle: it shows the degree of shoulder inflammatory lesions of\\rthe elderly, or the adhesion degree of shoulder muscle. Generally, the smaller the tested value is,\\rthe better it is. It proves their illness is lighter or there is no body disease.\\r3. Limbs Circulation Limit: it shows the limit of stiffness or activities of blood microcirculation of\\rlimbs due to a variety of external factors. Generally, four pluses mean it is most serious. The less\\rthe number of plus is, the better it is; it proves that the probability of the disease factors in the body\\ris lower.\\r4. Age of Ligament: this indicator is an integrated parameter obtained through the above four\\rindicators, and the results are generally in 10% -40%. The greater value proves the degree of\\rdegenerative diseases or aging is larger, and contrariwise it proves the physique and the human\\rimmunity are stronger.\\rThe test results for reference only and not as a diagnostic conclusion.\\rPage 23 of 97, dtype: object  Name: Unnamed: 1, dtype: object\n",
      "                                                                                                                                                                                                                                                                                                                                                                                                                       0    Normal Range                           0                          Testing Item                                                                                                                                                                                                                                                                                                                                                                                                                                                                                                                                                                                                                                                                                                                                                                                                                                                                                                                                                                                                                                                                                                                                                                                                                                                                                                                                                                                                                                                                                                                                                                                                                                                                                                               0    Actual Measurement Value\n",
      "                                                                                                                                                                                                                                                                                                                                                                                                                       1    No Direction                           1     Lumbar Fiber Protruding Dimension                                                                                                                                                                                                                                                                                                                                                                                                                                                                                                                                                                                                                                                                                                                                                                                                                                                                                                                                                                                                                                                                                                                                                                                                                                                                                                                                                                                                                                                                                                                                                                                                                                                                                                               1                No Direction\n",
      "                                                                                                                                                                                                                                                                                                                                                                                                                       2         < u 0.2                           2    Adhesion Degree of Shoulder Muscle                                                                                                                                                                                                                                                                                                                                                                                                                                                                                                                                                                                                                                                                                                                                                                                                                                                                                                                                                                                                                                                                                                                                                                                                                                                                                                                                                                                                                                                                                                                                                                                                                                                                                                               2                      u 0.16\n",
      "                                                                                                                                                                                                                                                                                                                                                                                                                       3               +                           3               Limbs Circulation Limit                                                                                                                                                                                                                                                                                                                                                                                                                                                                                                                                                                                                                                                                                                                                                                                                                                                                                                                                                                                                                                                                                                                                                                                                                                                                                                                                                                                                                                                                                                                                                                                                                                                                                                               3                           +\n",
      "                                                                                                                                                                                                                                                                                                                                                                                                                       4         10%-40%                           4                       Age of Ligament                                                                                                                                                                                                                                                                                                                                                                                                                                                                                                                                                                                                                                                                                                                                                                                                                                                                                                                                                                                                                                                                                                                                                                                                                                                                                                                                                                                                                                                                                                                                                                                                                                                                                                               4                         32%\n",
      "                                                                                                                                                                                                                                                                                                                                                                                                                       Name: Unnamed: 0, dtype: object             Name: (Bone Disease) Analysis Report Card\\rName: Mahmoud AdelSex: MaleAge: 21\\rFigure: 170cm, 58kgTesting Time: 8/17/2022 13:32\\rActual Testing Results\\rTesting ItemNormal RangeActual Measurement Value\\rLumbar Fiber Protruding DimensionNo DirectionNo Direction\\rAdhesion Degree of Shoulder Muscle< u 0.2u 0.16\\rLimbs Circulation Limit++\\rAge of Ligament10%-40%32%\\rTesting Term Description:\\r1. Lumbar Fiber Protruding Dimension: it shows the lumbar fiber cycle or the nucleus pulposus\\rprotrudes toward one side of the body or protrudes near the side. Generally, the common case is\\rthat the left side compress the equina of the right side. No direction is normal.\\r2. Adhesion Degree of Shoulder Muscle: it shows the degree of shoulder inflammatory lesions of\\rthe elderly, or the adhesion degree of shoulder muscle. Generally, the smaller the tested value is,\\rthe better it is. It proves their illness is lighter or there is no body disease.\\r3. Limbs Circulation Limit: it shows the limit of stiffness or activities of blood microcirculation of\\rlimbs due to a variety of external factors. Generally, four pluses mean it is most serious. The less\\rthe number of plus is, the better it is; it proves that the probability of the disease factors in the body\\ris lower.\\r4. Age of Ligament: this indicator is an integrated parameter obtained through the above four\\rindicators, and the results are generally in 10% -40%. The greater value proves the degree of\\rdegenerative diseases or aging is larger, and contrariwise it proves the physique and the human\\rimmunity are stronger.\\rThe test results for reference only and not as a diagnostic conclusion.\\rPage 23 of 97, dtype: object  Name: Unnamed: 1, dtype: object\n",
      "------------------------------------------------------  ----------------------------------  -----------------------------------------------  ------------------------------------  ------------------------------------------------------------------------------------------------------------------------  -----------------------------------------------  -------------------------------------------------------  ------------------------------------------  ----------------------------------------------------------------------------------------------------------------------------------------------------------------------------------------------------------------------------------------------------------------------------------------------------------------------------------------------------------------------------------------------------------------------------------------------------------------------------------------------------------------------------------------------------------------------------------------------------------------------------------------------------------------------------------------------------------------------------------------------------------------------------------------------------------------------------------------------------------------------------------------------------------------------------------------------------------------------------------------------------------------------------------------------------------------------------------------------------------------------------------------------------------------------------------------------------------------------------------------------------------------------------------------------------------------------------------------------------------------------------------------------------------------------------------------------------------------------------------------------------------------------------------------------------------------------------------------------------------------------------------------------------------------------------------------------------------------------------------------------------  -------------------------------\n"
     ]
    }
   ],
   "source": [
    "from tabula import read_pdf\n",
    "from tabulate import tabulate\n",
    "\n",
    "#reads table from pdf file\n",
    "df = read_pdf(\"Mahmoud Adel.pdf\",pages=\"1-23\",multiple_tables=True)\n",
    "#address of pdf file\n",
    "print(tabulate(df))\n"
   ]
  },
  {
   "cell_type": "code",
   "execution_count": 21,
   "metadata": {},
   "outputs": [
    {
     "data": {
      "text/plain": [
       "19"
      ]
     },
     "execution_count": 21,
     "metadata": {},
     "output_type": "execute_result"
    }
   ],
   "source": [
    "len(df)"
   ]
  },
  {
   "cell_type": "code",
   "execution_count": 44,
   "metadata": {},
   "outputs": [],
   "source": [
    "test = read_pdf(\"Mahmoud Adel.pdf\",pages=1,multiple_tables=True)"
   ]
  },
  {
   "cell_type": "code",
   "execution_count": 47,
   "metadata": {},
   "outputs": [
    {
     "data": {
      "text/plain": [
       "[                              Testing Item     Normal\\rRange  \\\n",
       " 0                          Blood Viscosity  48.264 -\\r65.371   \n",
       " 1                      Cholesterol Crystal  56.749 -\\r67.522   \n",
       " 2                                Blood Fat    0.481 -\\r1.043   \n",
       " 3                      Vascular Resistance    0.327 -\\r0.937   \n",
       " 4                      Vascular Elasticity    1.672 -\\r1.978   \n",
       " 5                  Myocardial Blood Demand    0.192 -\\r0.412   \n",
       " 6       Myocardial Blood Perfusion\\rVolume    4.832 -\\r5.147   \n",
       " 7           Myocardial Oxygen\\rConsumption    3.321 -\\r4.244   \n",
       " 8                            Stroke Volume    1.338 -\\r1.672   \n",
       " 9     Left Ventricular Ejection\\rImpedance    0.669 -\\r1.544   \n",
       " 10  Left Ventricular Effective\\rPump Power    1.554 -\\r1.988   \n",
       " 11              Coronary Artery Elasticity    1.553 -\\r2.187   \n",
       " 12             Coronary Perfusion Pressure  11.719 -\\r18.418   \n",
       " 13       Cerebral Blood Vessel\\rElasticity    0.708 -\\r1.942   \n",
       " 14       Brain Tissue Blood Supply\\rStatus   6.138 -\\r21.396   \n",
       " \n",
       "     Actual Measurement\\rValue  Testing Result  \n",
       " 0                      66.898             NaN  \n",
       " 1                      64.253             NaN  \n",
       " 2                       1.482             NaN  \n",
       " 3                       1.397             NaN  \n",
       " 4                       1.535             NaN  \n",
       " 5                       0.475             NaN  \n",
       " 6                       4.518             NaN  \n",
       " 7                       3.499             NaN  \n",
       " 8                       1.333             NaN  \n",
       " 9                       1.263             NaN  \n",
       " 10                      1.349             NaN  \n",
       " 11                      1.281             NaN  \n",
       " 12                     13.956             NaN  \n",
       " 13                      1.757             NaN  \n",
       " 14                      7.742             NaN  ]"
      ]
     },
     "execution_count": 47,
     "metadata": {},
     "output_type": "execute_result"
    }
   ],
   "source": [
    "test"
   ]
  },
  {
   "cell_type": "code",
   "execution_count": 78,
   "metadata": {},
   "outputs": [
    {
     "data": {
      "text/html": [
       "<div>\n",
       "<style scoped>\n",
       "    .dataframe tbody tr th:only-of-type {\n",
       "        vertical-align: middle;\n",
       "    }\n",
       "\n",
       "    .dataframe tbody tr th {\n",
       "        vertical-align: top;\n",
       "    }\n",
       "\n",
       "    .dataframe thead th {\n",
       "        text-align: right;\n",
       "    }\n",
       "</style>\n",
       "<table border=\"1\" class=\"dataframe\">\n",
       "  <thead>\n",
       "    <tr style=\"text-align: right;\">\n",
       "      <th></th>\n",
       "      <th>Testing Item</th>\n",
       "      <th>Normal\\rRange</th>\n",
       "      <th>Actual Measurement\\rValue</th>\n",
       "      <th>Testing Result</th>\n",
       "    </tr>\n",
       "  </thead>\n",
       "  <tbody>\n",
       "    <tr>\n",
       "      <th>0</th>\n",
       "      <td>Blood Viscosity</td>\n",
       "      <td>48.264 -\\r65.371</td>\n",
       "      <td>66.898</td>\n",
       "      <td>NaN</td>\n",
       "    </tr>\n",
       "    <tr>\n",
       "      <th>1</th>\n",
       "      <td>Cholesterol Crystal</td>\n",
       "      <td>56.749 -\\r67.522</td>\n",
       "      <td>64.253</td>\n",
       "      <td>NaN</td>\n",
       "    </tr>\n",
       "    <tr>\n",
       "      <th>2</th>\n",
       "      <td>Blood Fat</td>\n",
       "      <td>0.481 -\\r1.043</td>\n",
       "      <td>1.482</td>\n",
       "      <td>NaN</td>\n",
       "    </tr>\n",
       "    <tr>\n",
       "      <th>3</th>\n",
       "      <td>Vascular Resistance</td>\n",
       "      <td>0.327 -\\r0.937</td>\n",
       "      <td>1.397</td>\n",
       "      <td>NaN</td>\n",
       "    </tr>\n",
       "    <tr>\n",
       "      <th>4</th>\n",
       "      <td>Vascular Elasticity</td>\n",
       "      <td>1.672 -\\r1.978</td>\n",
       "      <td>1.535</td>\n",
       "      <td>NaN</td>\n",
       "    </tr>\n",
       "    <tr>\n",
       "      <th>5</th>\n",
       "      <td>Myocardial Blood Demand</td>\n",
       "      <td>0.192 -\\r0.412</td>\n",
       "      <td>0.475</td>\n",
       "      <td>NaN</td>\n",
       "    </tr>\n",
       "    <tr>\n",
       "      <th>6</th>\n",
       "      <td>Myocardial Blood Perfusion\\rVolume</td>\n",
       "      <td>4.832 -\\r5.147</td>\n",
       "      <td>4.518</td>\n",
       "      <td>NaN</td>\n",
       "    </tr>\n",
       "    <tr>\n",
       "      <th>7</th>\n",
       "      <td>Myocardial Oxygen\\rConsumption</td>\n",
       "      <td>3.321 -\\r4.244</td>\n",
       "      <td>3.499</td>\n",
       "      <td>NaN</td>\n",
       "    </tr>\n",
       "    <tr>\n",
       "      <th>8</th>\n",
       "      <td>Stroke Volume</td>\n",
       "      <td>1.338 -\\r1.672</td>\n",
       "      <td>1.333</td>\n",
       "      <td>NaN</td>\n",
       "    </tr>\n",
       "    <tr>\n",
       "      <th>9</th>\n",
       "      <td>Left Ventricular Ejection\\rImpedance</td>\n",
       "      <td>0.669 -\\r1.544</td>\n",
       "      <td>1.263</td>\n",
       "      <td>NaN</td>\n",
       "    </tr>\n",
       "    <tr>\n",
       "      <th>10</th>\n",
       "      <td>Left Ventricular Effective\\rPump Power</td>\n",
       "      <td>1.554 -\\r1.988</td>\n",
       "      <td>1.349</td>\n",
       "      <td>NaN</td>\n",
       "    </tr>\n",
       "    <tr>\n",
       "      <th>11</th>\n",
       "      <td>Coronary Artery Elasticity</td>\n",
       "      <td>1.553 -\\r2.187</td>\n",
       "      <td>1.281</td>\n",
       "      <td>NaN</td>\n",
       "    </tr>\n",
       "    <tr>\n",
       "      <th>12</th>\n",
       "      <td>Coronary Perfusion Pressure</td>\n",
       "      <td>11.719 -\\r18.418</td>\n",
       "      <td>13.956</td>\n",
       "      <td>NaN</td>\n",
       "    </tr>\n",
       "    <tr>\n",
       "      <th>13</th>\n",
       "      <td>Cerebral Blood Vessel\\rElasticity</td>\n",
       "      <td>0.708 -\\r1.942</td>\n",
       "      <td>1.757</td>\n",
       "      <td>NaN</td>\n",
       "    </tr>\n",
       "    <tr>\n",
       "      <th>14</th>\n",
       "      <td>Brain Tissue Blood Supply\\rStatus</td>\n",
       "      <td>6.138 -\\r21.396</td>\n",
       "      <td>7.742</td>\n",
       "      <td>NaN</td>\n",
       "    </tr>\n",
       "  </tbody>\n",
       "</table>\n",
       "</div>"
      ],
      "text/plain": [
       "                              Testing Item     Normal\\rRange  \\\n",
       "0                          Blood Viscosity  48.264 -\\r65.371   \n",
       "1                      Cholesterol Crystal  56.749 -\\r67.522   \n",
       "2                                Blood Fat    0.481 -\\r1.043   \n",
       "3                      Vascular Resistance    0.327 -\\r0.937   \n",
       "4                      Vascular Elasticity    1.672 -\\r1.978   \n",
       "5                  Myocardial Blood Demand    0.192 -\\r0.412   \n",
       "6       Myocardial Blood Perfusion\\rVolume    4.832 -\\r5.147   \n",
       "7           Myocardial Oxygen\\rConsumption    3.321 -\\r4.244   \n",
       "8                            Stroke Volume    1.338 -\\r1.672   \n",
       "9     Left Ventricular Ejection\\rImpedance    0.669 -\\r1.544   \n",
       "10  Left Ventricular Effective\\rPump Power    1.554 -\\r1.988   \n",
       "11              Coronary Artery Elasticity    1.553 -\\r2.187   \n",
       "12             Coronary Perfusion Pressure  11.719 -\\r18.418   \n",
       "13       Cerebral Blood Vessel\\rElasticity    0.708 -\\r1.942   \n",
       "14       Brain Tissue Blood Supply\\rStatus   6.138 -\\r21.396   \n",
       "\n",
       "    Actual Measurement\\rValue  Testing Result  \n",
       "0                      66.898             NaN  \n",
       "1                      64.253             NaN  \n",
       "2                       1.482             NaN  \n",
       "3                       1.397             NaN  \n",
       "4                       1.535             NaN  \n",
       "5                       0.475             NaN  \n",
       "6                       4.518             NaN  \n",
       "7                       3.499             NaN  \n",
       "8                       1.333             NaN  \n",
       "9                       1.263             NaN  \n",
       "10                      1.349             NaN  \n",
       "11                      1.281             NaN  \n",
       "12                     13.956             NaN  \n",
       "13                      1.757             NaN  \n",
       "14                      7.742             NaN  "
      ]
     },
     "execution_count": 78,
     "metadata": {},
     "output_type": "execute_result"
    }
   ],
   "source": [
    "s=test[0]\n",
    "s"
   ]
  },
  {
   "cell_type": "code",
   "execution_count": 79,
   "metadata": {},
   "outputs": [],
   "source": [
    "s = s.iloc[: , :-1]"
   ]
  },
  {
   "cell_type": "code",
   "execution_count": 80,
   "metadata": {},
   "outputs": [
    {
     "data": {
      "text/html": [
       "<div>\n",
       "<style scoped>\n",
       "    .dataframe tbody tr th:only-of-type {\n",
       "        vertical-align: middle;\n",
       "    }\n",
       "\n",
       "    .dataframe tbody tr th {\n",
       "        vertical-align: top;\n",
       "    }\n",
       "\n",
       "    .dataframe thead th {\n",
       "        text-align: right;\n",
       "    }\n",
       "</style>\n",
       "<table border=\"1\" class=\"dataframe\">\n",
       "  <thead>\n",
       "    <tr style=\"text-align: right;\">\n",
       "      <th></th>\n",
       "      <th>Testing Item</th>\n",
       "      <th>Normal\\rRange</th>\n",
       "      <th>Actual Measurement\\rValue</th>\n",
       "    </tr>\n",
       "  </thead>\n",
       "  <tbody>\n",
       "    <tr>\n",
       "      <th>0</th>\n",
       "      <td>Blood Viscosity</td>\n",
       "      <td>48.264 -\\r65.371</td>\n",
       "      <td>66.898</td>\n",
       "    </tr>\n",
       "    <tr>\n",
       "      <th>1</th>\n",
       "      <td>Cholesterol Crystal</td>\n",
       "      <td>56.749 -\\r67.522</td>\n",
       "      <td>64.253</td>\n",
       "    </tr>\n",
       "    <tr>\n",
       "      <th>2</th>\n",
       "      <td>Blood Fat</td>\n",
       "      <td>0.481 -\\r1.043</td>\n",
       "      <td>1.482</td>\n",
       "    </tr>\n",
       "    <tr>\n",
       "      <th>3</th>\n",
       "      <td>Vascular Resistance</td>\n",
       "      <td>0.327 -\\r0.937</td>\n",
       "      <td>1.397</td>\n",
       "    </tr>\n",
       "    <tr>\n",
       "      <th>4</th>\n",
       "      <td>Vascular Elasticity</td>\n",
       "      <td>1.672 -\\r1.978</td>\n",
       "      <td>1.535</td>\n",
       "    </tr>\n",
       "    <tr>\n",
       "      <th>5</th>\n",
       "      <td>Myocardial Blood Demand</td>\n",
       "      <td>0.192 -\\r0.412</td>\n",
       "      <td>0.475</td>\n",
       "    </tr>\n",
       "    <tr>\n",
       "      <th>6</th>\n",
       "      <td>Myocardial Blood Perfusion\\rVolume</td>\n",
       "      <td>4.832 -\\r5.147</td>\n",
       "      <td>4.518</td>\n",
       "    </tr>\n",
       "    <tr>\n",
       "      <th>7</th>\n",
       "      <td>Myocardial Oxygen\\rConsumption</td>\n",
       "      <td>3.321 -\\r4.244</td>\n",
       "      <td>3.499</td>\n",
       "    </tr>\n",
       "    <tr>\n",
       "      <th>8</th>\n",
       "      <td>Stroke Volume</td>\n",
       "      <td>1.338 -\\r1.672</td>\n",
       "      <td>1.333</td>\n",
       "    </tr>\n",
       "    <tr>\n",
       "      <th>9</th>\n",
       "      <td>Left Ventricular Ejection\\rImpedance</td>\n",
       "      <td>0.669 -\\r1.544</td>\n",
       "      <td>1.263</td>\n",
       "    </tr>\n",
       "    <tr>\n",
       "      <th>10</th>\n",
       "      <td>Left Ventricular Effective\\rPump Power</td>\n",
       "      <td>1.554 -\\r1.988</td>\n",
       "      <td>1.349</td>\n",
       "    </tr>\n",
       "    <tr>\n",
       "      <th>11</th>\n",
       "      <td>Coronary Artery Elasticity</td>\n",
       "      <td>1.553 -\\r2.187</td>\n",
       "      <td>1.281</td>\n",
       "    </tr>\n",
       "    <tr>\n",
       "      <th>12</th>\n",
       "      <td>Coronary Perfusion Pressure</td>\n",
       "      <td>11.719 -\\r18.418</td>\n",
       "      <td>13.956</td>\n",
       "    </tr>\n",
       "    <tr>\n",
       "      <th>13</th>\n",
       "      <td>Cerebral Blood Vessel\\rElasticity</td>\n",
       "      <td>0.708 -\\r1.942</td>\n",
       "      <td>1.757</td>\n",
       "    </tr>\n",
       "    <tr>\n",
       "      <th>14</th>\n",
       "      <td>Brain Tissue Blood Supply\\rStatus</td>\n",
       "      <td>6.138 -\\r21.396</td>\n",
       "      <td>7.742</td>\n",
       "    </tr>\n",
       "  </tbody>\n",
       "</table>\n",
       "</div>"
      ],
      "text/plain": [
       "                              Testing Item     Normal\\rRange  \\\n",
       "0                          Blood Viscosity  48.264 -\\r65.371   \n",
       "1                      Cholesterol Crystal  56.749 -\\r67.522   \n",
       "2                                Blood Fat    0.481 -\\r1.043   \n",
       "3                      Vascular Resistance    0.327 -\\r0.937   \n",
       "4                      Vascular Elasticity    1.672 -\\r1.978   \n",
       "5                  Myocardial Blood Demand    0.192 -\\r0.412   \n",
       "6       Myocardial Blood Perfusion\\rVolume    4.832 -\\r5.147   \n",
       "7           Myocardial Oxygen\\rConsumption    3.321 -\\r4.244   \n",
       "8                            Stroke Volume    1.338 -\\r1.672   \n",
       "9     Left Ventricular Ejection\\rImpedance    0.669 -\\r1.544   \n",
       "10  Left Ventricular Effective\\rPump Power    1.554 -\\r1.988   \n",
       "11              Coronary Artery Elasticity    1.553 -\\r2.187   \n",
       "12             Coronary Perfusion Pressure  11.719 -\\r18.418   \n",
       "13       Cerebral Blood Vessel\\rElasticity    0.708 -\\r1.942   \n",
       "14       Brain Tissue Blood Supply\\rStatus   6.138 -\\r21.396   \n",
       "\n",
       "    Actual Measurement\\rValue  \n",
       "0                      66.898  \n",
       "1                      64.253  \n",
       "2                       1.482  \n",
       "3                       1.397  \n",
       "4                       1.535  \n",
       "5                       0.475  \n",
       "6                       4.518  \n",
       "7                       3.499  \n",
       "8                       1.333  \n",
       "9                       1.263  \n",
       "10                      1.349  \n",
       "11                      1.281  \n",
       "12                     13.956  \n",
       "13                      1.757  \n",
       "14                      7.742  "
      ]
     },
     "execution_count": 80,
     "metadata": {},
     "output_type": "execute_result"
    }
   ],
   "source": [
    "s"
   ]
  },
  {
   "cell_type": "code",
   "execution_count": 88,
   "metadata": {},
   "outputs": [
    {
     "data": {
      "text/plain": [
       "0     66.898\n",
       "1     64.253\n",
       "2      1.482\n",
       "3      1.397\n",
       "4      1.535\n",
       "5      0.475\n",
       "6      4.518\n",
       "7      3.499\n",
       "8      1.333\n",
       "9      1.263\n",
       "10     1.349\n",
       "11     1.281\n",
       "12    13.956\n",
       "13     1.757\n",
       "14     7.742\n",
       "Name: Actual Measurement\\rValue, dtype: float64"
      ]
     },
     "execution_count": 88,
     "metadata": {},
     "output_type": "execute_result"
    }
   ],
   "source": [
    "s['Actual Measurement\\rValue'][:]"
   ]
  },
  {
   "cell_type": "code",
   "execution_count": 116,
   "metadata": {},
   "outputs": [
    {
     "data": {
      "text/html": [
       "<div>\n",
       "<style scoped>\n",
       "    .dataframe tbody tr th:only-of-type {\n",
       "        vertical-align: middle;\n",
       "    }\n",
       "\n",
       "    .dataframe tbody tr th {\n",
       "        vertical-align: top;\n",
       "    }\n",
       "\n",
       "    .dataframe thead th {\n",
       "        text-align: right;\n",
       "    }\n",
       "</style>\n",
       "<table border=\"1\" class=\"dataframe\">\n",
       "  <thead>\n",
       "    <tr style=\"text-align: right;\">\n",
       "      <th></th>\n",
       "      <th>Testing Item</th>\n",
       "      <th>Normal\\rRange</th>\n",
       "      <th>Actual Measurement\\rValue</th>\n",
       "    </tr>\n",
       "  </thead>\n",
       "  <tbody>\n",
       "    <tr>\n",
       "      <th>0</th>\n",
       "      <td>Blood Viscosity</td>\n",
       "      <td>48.264 -\\r65.371</td>\n",
       "      <td>66.898</td>\n",
       "    </tr>\n",
       "    <tr>\n",
       "      <th>1</th>\n",
       "      <td>Cholesterol Crystal</td>\n",
       "      <td>56.749 -\\r67.522</td>\n",
       "      <td>64.253</td>\n",
       "    </tr>\n",
       "    <tr>\n",
       "      <th>2</th>\n",
       "      <td>Blood Fat</td>\n",
       "      <td>0.481 -\\r1.043</td>\n",
       "      <td>1.482</td>\n",
       "    </tr>\n",
       "    <tr>\n",
       "      <th>3</th>\n",
       "      <td>Vascular Resistance</td>\n",
       "      <td>0.327 -\\r0.937</td>\n",
       "      <td>1.397</td>\n",
       "    </tr>\n",
       "    <tr>\n",
       "      <th>4</th>\n",
       "      <td>Vascular Elasticity</td>\n",
       "      <td>1.672 -\\r1.978</td>\n",
       "      <td>1.535</td>\n",
       "    </tr>\n",
       "    <tr>\n",
       "      <th>5</th>\n",
       "      <td>Myocardial Blood Demand</td>\n",
       "      <td>0.192 -\\r0.412</td>\n",
       "      <td>0.475</td>\n",
       "    </tr>\n",
       "    <tr>\n",
       "      <th>6</th>\n",
       "      <td>Myocardial Blood Perfusion\\rVolume</td>\n",
       "      <td>4.832 -\\r5.147</td>\n",
       "      <td>4.518</td>\n",
       "    </tr>\n",
       "    <tr>\n",
       "      <th>7</th>\n",
       "      <td>Myocardial Oxygen\\rConsumption</td>\n",
       "      <td>3.321 -\\r4.244</td>\n",
       "      <td>3.499</td>\n",
       "    </tr>\n",
       "    <tr>\n",
       "      <th>8</th>\n",
       "      <td>Stroke Volume</td>\n",
       "      <td>1.338 -\\r1.672</td>\n",
       "      <td>1.333</td>\n",
       "    </tr>\n",
       "    <tr>\n",
       "      <th>9</th>\n",
       "      <td>Left Ventricular Ejection\\rImpedance</td>\n",
       "      <td>0.669 -\\r1.544</td>\n",
       "      <td>1.263</td>\n",
       "    </tr>\n",
       "    <tr>\n",
       "      <th>10</th>\n",
       "      <td>Left Ventricular Effective\\rPump Power</td>\n",
       "      <td>1.554 -\\r1.988</td>\n",
       "      <td>1.349</td>\n",
       "    </tr>\n",
       "    <tr>\n",
       "      <th>11</th>\n",
       "      <td>Coronary Artery Elasticity</td>\n",
       "      <td>1.553 -\\r2.187</td>\n",
       "      <td>1.281</td>\n",
       "    </tr>\n",
       "    <tr>\n",
       "      <th>12</th>\n",
       "      <td>Coronary Perfusion Pressure</td>\n",
       "      <td>11.719 -\\r18.418</td>\n",
       "      <td>13.956</td>\n",
       "    </tr>\n",
       "    <tr>\n",
       "      <th>13</th>\n",
       "      <td>Cerebral Blood Vessel\\rElasticity</td>\n",
       "      <td>0.708 -\\r1.942</td>\n",
       "      <td>1.757</td>\n",
       "    </tr>\n",
       "    <tr>\n",
       "      <th>14</th>\n",
       "      <td>Brain Tissue Blood Supply\\rStatus</td>\n",
       "      <td>6.138 -\\r21.396</td>\n",
       "      <td>7.742</td>\n",
       "    </tr>\n",
       "  </tbody>\n",
       "</table>\n",
       "</div>"
      ],
      "text/plain": [
       "                              Testing Item     Normal\\rRange  \\\n",
       "0                          Blood Viscosity  48.264 -\\r65.371   \n",
       "1                      Cholesterol Crystal  56.749 -\\r67.522   \n",
       "2                                Blood Fat    0.481 -\\r1.043   \n",
       "3                      Vascular Resistance    0.327 -\\r0.937   \n",
       "4                      Vascular Elasticity    1.672 -\\r1.978   \n",
       "5                  Myocardial Blood Demand    0.192 -\\r0.412   \n",
       "6       Myocardial Blood Perfusion\\rVolume    4.832 -\\r5.147   \n",
       "7           Myocardial Oxygen\\rConsumption    3.321 -\\r4.244   \n",
       "8                            Stroke Volume    1.338 -\\r1.672   \n",
       "9     Left Ventricular Ejection\\rImpedance    0.669 -\\r1.544   \n",
       "10  Left Ventricular Effective\\rPump Power    1.554 -\\r1.988   \n",
       "11              Coronary Artery Elasticity    1.553 -\\r2.187   \n",
       "12             Coronary Perfusion Pressure  11.719 -\\r18.418   \n",
       "13       Cerebral Blood Vessel\\rElasticity    0.708 -\\r1.942   \n",
       "14       Brain Tissue Blood Supply\\rStatus   6.138 -\\r21.396   \n",
       "\n",
       "    Actual Measurement\\rValue  \n",
       "0                      66.898  \n",
       "1                      64.253  \n",
       "2                       1.482  \n",
       "3                       1.397  \n",
       "4                       1.535  \n",
       "5                       0.475  \n",
       "6                       4.518  \n",
       "7                       3.499  \n",
       "8                       1.333  \n",
       "9                       1.263  \n",
       "10                      1.349  \n",
       "11                      1.281  \n",
       "12                     13.956  \n",
       "13                      1.757  \n",
       "14                      7.742  "
      ]
     },
     "execution_count": 116,
     "metadata": {},
     "output_type": "execute_result"
    }
   ],
   "source": [
    "s[:]"
   ]
  },
  {
   "cell_type": "code",
   "execution_count": 101,
   "metadata": {},
   "outputs": [
    {
     "data": {
      "text/plain": [
       "['Blood Viscosity',\n",
       " 'Cholesterol Crystal',\n",
       " 'Blood Fat',\n",
       " 'Vascular Resistance',\n",
       " 'Vascular Elasticity',\n",
       " 'Myocardial Blood Demand',\n",
       " 'Myocardial Blood Perfusion Volume',\n",
       " 'Myocardial Oxygen Consumption',\n",
       " 'Stroke Volume',\n",
       " 'Left Ventricular Ejection Impedance',\n",
       " 'Left Ventricular Effective Pump Power',\n",
       " 'Coronary Artery Elasticity',\n",
       " 'Coronary Perfusion Pressure',\n",
       " 'Cerebral Blood Vessel Elasticity',\n",
       " 'Brain Tissue Blood Supply Status']"
      ]
     },
     "execution_count": 101,
     "metadata": {},
     "output_type": "execute_result"
    }
   ],
   "source": [
    "res = [sub.replace('\\r', ' ') for sub in s['Testing Item']]\n",
    "res"
   ]
  },
  {
   "cell_type": "code",
   "execution_count": null,
   "metadata": {},
   "outputs": [],
   "source": []
  },
  {
   "cell_type": "code",
   "execution_count": 31,
   "metadata": {},
   "outputs": [],
   "source": [
    "test = read_pdf(\"Mahmoud Adel.pdf\",pages=\"25-97\",multiple_tables=True)"
   ]
  },
  {
   "cell_type": "code",
   "execution_count": 34,
   "metadata": {},
   "outputs": [
    {
     "data": {
      "text/plain": [
       "76"
      ]
     },
     "execution_count": 34,
     "metadata": {},
     "output_type": "execute_result"
    }
   ],
   "source": [
    "len(test)"
   ]
  },
  {
   "cell_type": "code",
   "execution_count": 42,
   "metadata": {},
   "outputs": [
    {
     "ename": "TypeError",
     "evalue": "read_pdf_with_template() missing 1 required positional argument: 'template_path'",
     "output_type": "error",
     "traceback": [
      "\u001b[1;31m---------------------------------------------------------------------------\u001b[0m",
      "\u001b[1;31mTypeError\u001b[0m                                 Traceback (most recent call last)",
      "\u001b[1;32mc:\\Users\\Mahmoud\\Projects\\Python projects\\Graduation\\test.ipynb Cell 7\u001b[0m in \u001b[0;36m<cell line: 1>\u001b[1;34m()\u001b[0m\n\u001b[1;32m----> <a href='vscode-notebook-cell:/c%3A/Users/Mahmoud/Projects/Python%20projects/Graduation/test.ipynb#Y111sZmlsZQ%3D%3D?line=0'>1</a>\u001b[0m t\u001b[39m=\u001b[39mtabula\u001b[39m.\u001b[39;49mread_pdf_with_template(input_path\u001b[39m=\u001b[39;49m\u001b[39m\"\u001b[39;49m\u001b[39mMahmoud Adel.pdf\u001b[39;49m\u001b[39m\"\u001b[39;49m,pages\u001b[39m=\u001b[39;49m\u001b[39m\"\u001b[39;49m\u001b[39m25-97\u001b[39;49m\u001b[39m\"\u001b[39;49m)\n",
      "\u001b[1;31mTypeError\u001b[0m: read_pdf_with_template() missing 1 required positional argument: 'template_path'"
     ]
    }
   ],
   "source": [
    "t=tabula.read_pdf_with_template(input_path=\"Mahmoud Adel.pdf\",pages=\"25-97\",template_path=\"template.csv\")"
   ]
  },
  {
   "cell_type": "code",
   "execution_count": 33,
   "metadata": {},
   "outputs": [
    {
     "ename": "UnicodeDecodeError",
     "evalue": "'utf-8' codec can't decode byte 0xa6 in position 3055: invalid start byte",
     "output_type": "error",
     "traceback": [
      "\u001b[1;31m---------------------------------------------------------------------------\u001b[0m",
      "\u001b[1;31mUnicodeDecodeError\u001b[0m                        Traceback (most recent call last)",
      "\u001b[1;32mc:\\Users\\Mahmoud\\Projects\\Python projects\\Graduation\\test.ipynb Cell 6\u001b[0m in \u001b[0;36m<cell line: 1>\u001b[1;34m()\u001b[0m\n\u001b[1;32m----> <a href='vscode-notebook-cell:/c%3A/Users/Mahmoud/Projects/Python%20projects/Graduation/test.ipynb#Y106sZmlsZQ%3D%3D?line=0'>1</a>\u001b[0m test1\u001b[39m=\u001b[39mread_pdf(\u001b[39m\"\u001b[39;49m\u001b[39mMahmoud Adel.pdf\u001b[39;49m\u001b[39m\"\u001b[39;49m,pages\u001b[39m=\u001b[39;49m\u001b[39m\"\u001b[39;49m\u001b[39m24\u001b[39;49m\u001b[39m\"\u001b[39;49m,multiple_tables\u001b[39m=\u001b[39;49m\u001b[39mTrue\u001b[39;49;00m)\n",
      "File \u001b[1;32mc:\\Users\\Mahmoud\\AppData\\Local\\Programs\\Python\\Python310\\lib\\site-packages\\tabula\\io.py:434\u001b[0m, in \u001b[0;36mread_pdf\u001b[1;34m(input_path, output_format, encoding, java_options, pandas_options, multiple_tables, user_agent, use_raw_url, pages, guess, area, relative_area, lattice, stream, password, silent, columns, format, batch, output_path, options)\u001b[0m\n\u001b[0;32m    432\u001b[0m fmt \u001b[39m=\u001b[39m tabula_options\u001b[39m.\u001b[39mformat\n\u001b[0;32m    433\u001b[0m \u001b[39mif\u001b[39;00m fmt \u001b[39m==\u001b[39m \u001b[39m\"\u001b[39m\u001b[39mJSON\u001b[39m\u001b[39m\"\u001b[39m:\n\u001b[1;32m--> 434\u001b[0m     raw_json: List[Any] \u001b[39m=\u001b[39m json\u001b[39m.\u001b[39mloads(output\u001b[39m.\u001b[39;49mdecode(encoding))\n\u001b[0;32m    435\u001b[0m     \u001b[39mif\u001b[39;00m multiple_tables:\n\u001b[0;32m    436\u001b[0m         \u001b[39mreturn\u001b[39;00m _extract_from(raw_json, pandas_options)\n",
      "\u001b[1;31mUnicodeDecodeError\u001b[0m: 'utf-8' codec can't decode byte 0xa6 in position 3055: invalid start byte"
     ]
    }
   ],
   "source": [
    "test1=read_pdf(\"Mahmoud Adel.pdf\",pages=\"24\",multiple_tables=True)"
   ]
  },
  {
   "cell_type": "code",
   "execution_count": 28,
   "metadata": {},
   "outputs": [],
   "source": [
    "pf = tabula.read_pdf(\"Mahmoud Adel.pdf\",pages=\"25\",multiple_tables=True)"
   ]
  },
  {
   "cell_type": "code",
   "execution_count": 29,
   "metadata": {},
   "outputs": [
    {
     "data": {
      "text/plain": [
       "[   The clear zone is like a bounding wall consisting of cytoplasm and makes the surrounded area\n",
       " 0   form a micro-environment. Osteoclast releases ...                                          \n",
       " 1   Under the acidic condition, the bone inorganic...                                          \n",
       " 2   to form some pinocytotic vesicles or phagosome...                                          \n",
       " 3   inorganic objects are degraded to be expelled ...                                          \n",
       " 4   The loss of inorganic objects makes collagen f...                                          \n",
       " 5   secretes a variety of lysosomal enzymes, espec...                                          \n",
       " 6   After osteoclasts leave from the bone surface,...                                          \n",
       " 7   cells are changed to enter the stationary phas...                                          \n",
       " 8   tissues can not be transformed into osteoclast...                                          \n",
       " 9   and late mononuclear phagocytes. Only the earl...                                          \n",
       " 10                 are the precursors of osteoclasts.                                          \n",
       " 11                            Amount of Calcium Loss:                                          \n",
       " 12  In a long time, the publicity of many business...                                          \n",
       " 13  one way to prevent and treat osteoporosis. How...                                          \n",
       " 14  of osteoporosis, modern medical experts find t...                                          \n",
       " 15  supplement of calcium and vitamin D as well as...                                          \n",
       " 16  mechanical factors are not the most important ...                                          \n",
       " 17  muscle mass (including muscle segment mass and...                                          \n",
       " 18  human nervous system is one of the most import...                                          \n",
       " 19  (including bone mass and bone structure). In g...                                          \n",
       " 20  female after the age of 28 begins to lose. Wit...                                          \n",
       " 21  accelerated. 50% of bone calcium has been lost...                                          \n",
       " 22  prevent fracture and prevent osteoporosis and ...                                          \n",
       " 23  very much related to the occurrence of osteopo...                                          \n",
       " 24  should take in 1200 mg of calcium each day, an...                                          \n",
       " 25  day. At the same time, it is need to take in m...                                          \n",
       " 26                   more effectively absorb calcium.                                          \n",
       " 27                        Degree of Bone Hyperplasia:                                          \n",
       " 28  It is the bone state. In the process of growth...                                          \n",
       " 29  some parts lose the normal shape. Bone hyperpl...                                          \n",
       " 30  characteristics because of the different parts...                                          \n",
       " 31  referred to 'bone spur', and there is Intra-ar...                                          \n",
       " 32  Hyperplasia of spine bone mainly show the 'lip...                                          \n",
       " 33  nerve, resulting in abnormal limb sense and mo...                                          \n",
       " 34                            Degree of Osteoporosis:                                          \n",
       " 35  It is a phenomenon of bone reduction of the wh...                                          \n",
       " 36  bone matrix is significantly reduced, while th...                                          \n",
       " 37  calcium and phosphorus) in the bone are basica...                                          \n",
       " 38  content of protein and other organic substance...                                          \n",
       " 39  content of calcium, phosphorus and other miner...                                          \n",
       " 40  the role of support and connection between cal...                                          \n",
       " 41  bone matrix is reduced, the gaps among the min...                                          \n",
       " 42  osteoporosis. With the progress of osteoporosi...                                          \n",
       " 43  bone will also be constantly lost and reduced,...                                          \n",
       " 44  bone are decreased. Osteoporosis in old age is...                                          \n",
       " 45                                        deficiency.                                          \n",
       " 46                              Bone Mineral Density:                                          \n",
       " 47  It mainly reflects the strength of bone, and t...                                          \n",
       " 48  osteoporosis, but also can predict the risk of...                                          \n",
       " 49  transformation of post-menopausal bone has a s...                                          \n",
       " 50  which can reflect this change and predict the ...                                          \n",
       " 51  limited. Undoubtedly, it brings a lot of incon...                                          \n",
       " 52  and the development of research work. The rese...                                          \n",
       " 53  the used biochemical indicators can not fully ...                                          \n",
       " 54  predict the risk of the occurrence of fracture...                                          \n",
       " 55  indicator, so the bone mineral density is stil...                                          \n",
       " 56  following up. Determining and reflecting the b...                                          \n",
       " 57  possess an important position both in the diag...                                          \n",
       " 58                                         treatment.                                          ]"
      ]
     },
     "execution_count": 29,
     "metadata": {},
     "output_type": "execute_result"
    }
   ],
   "source": [
    "pf"
   ]
  },
  {
   "cell_type": "code",
   "execution_count": 22,
   "metadata": {},
   "outputs": [
    {
     "data": {
      "text/html": [
       "<div>\n",
       "<style scoped>\n",
       "    .dataframe tbody tr th:only-of-type {\n",
       "        vertical-align: middle;\n",
       "    }\n",
       "\n",
       "    .dataframe tbody tr th {\n",
       "        vertical-align: top;\n",
       "    }\n",
       "\n",
       "    .dataframe thead th {\n",
       "        text-align: right;\n",
       "    }\n",
       "</style>\n",
       "<table border=\"1\" class=\"dataframe\">\n",
       "  <thead>\n",
       "    <tr style=\"text-align: right;\">\n",
       "      <th></th>\n",
       "      <th>(Bone Disease) Analysis Report Card\\rName: Mahmoud AdelSex: MaleAge: 21\\rFigure: 170cm, 58kgTesting Time: 8/17/2022 13:32\\rActual Testing Results\\rTesting ItemNormal RangeActual Measurement Value\\rLumbar Fiber Protruding DimensionNo DirectionNo Direction\\rAdhesion Degree of Shoulder Muscle&lt; u 0.2u 0.16\\rLimbs Circulation Limit++\\rAge of Ligament10%-40%32%\\rTesting Term Description:\\r1. Lumbar Fiber Protruding Dimension: it shows the lumbar fiber cycle or the nucleus pulposus\\rprotrudes toward one side of the body or protrudes near the side. Generally, the common case is\\rthat the left side compress the equina of the right side. No direction is normal.\\r2. Adhesion Degree of Shoulder Muscle: it shows the degree of shoulder inflammatory lesions of\\rthe elderly, or the adhesion degree of shoulder muscle. Generally, the smaller the tested value is,\\rthe better it is. It proves their illness is lighter or there is no body disease.\\r3. Limbs Circulation Limit: it shows the limit of stiffness or activities of blood microcirculation of\\rlimbs due to a variety of external factors. Generally, four pluses mean it is most serious. The less\\rthe number of plus is, the better it is; it proves that the probability of the disease factors in the body\\ris lower.\\r4. Age of Ligament: this indicator is an integrated parameter obtained through the above four\\rindicators, and the results are generally in 10% -40%. The greater value proves the degree of\\rdegenerative diseases or aging is larger, and contrariwise it proves the physique and the human\\rimmunity are stronger.\\rThe test results for reference only and not as a diagnostic conclusion.\\rPage 23 of 97</th>\n",
       "      <th>Unnamed: 0</th>\n",
       "      <th>Unnamed: 1</th>\n",
       "    </tr>\n",
       "  </thead>\n",
       "  <tbody>\n",
       "    <tr>\n",
       "      <th>0</th>\n",
       "      <td>Testing Item</td>\n",
       "      <td>Normal Range</td>\n",
       "      <td>Actual Measurement Value</td>\n",
       "    </tr>\n",
       "    <tr>\n",
       "      <th>1</th>\n",
       "      <td>Lumbar Fiber Protruding Dimension</td>\n",
       "      <td>No Direction</td>\n",
       "      <td>No Direction</td>\n",
       "    </tr>\n",
       "    <tr>\n",
       "      <th>2</th>\n",
       "      <td>Adhesion Degree of Shoulder Muscle</td>\n",
       "      <td>&lt; u 0.2</td>\n",
       "      <td>u 0.16</td>\n",
       "    </tr>\n",
       "    <tr>\n",
       "      <th>3</th>\n",
       "      <td>Limbs Circulation Limit</td>\n",
       "      <td>+</td>\n",
       "      <td>+</td>\n",
       "    </tr>\n",
       "    <tr>\n",
       "      <th>4</th>\n",
       "      <td>Age of Ligament</td>\n",
       "      <td>10%-40%</td>\n",
       "      <td>32%</td>\n",
       "    </tr>\n",
       "  </tbody>\n",
       "</table>\n",
       "</div>"
      ],
      "text/plain": [
       "  (Bone Disease) Analysis Report Card\\rName: Mahmoud AdelSex: MaleAge: 21\\rFigure: 170cm, 58kgTesting Time: 8/17/2022 13:32\\rActual Testing Results\\rTesting ItemNormal RangeActual Measurement Value\\rLumbar Fiber Protruding DimensionNo DirectionNo Direction\\rAdhesion Degree of Shoulder Muscle< u 0.2u 0.16\\rLimbs Circulation Limit++\\rAge of Ligament10%-40%32%\\rTesting Term Description:\\r1. Lumbar Fiber Protruding Dimension: it shows the lumbar fiber cycle or the nucleus pulposus\\rprotrudes toward one side of the body or protrudes near the side. Generally, the common case is\\rthat the left side compress the equina of the right side. No direction is normal.\\r2. Adhesion Degree of Shoulder Muscle: it shows the degree of shoulder inflammatory lesions of\\rthe elderly, or the adhesion degree of shoulder muscle. Generally, the smaller the tested value is,\\rthe better it is. It proves their illness is lighter or there is no body disease.\\r3. Limbs Circulation Limit: it shows the limit of stiffness or activities of blood microcirculation of\\rlimbs due to a variety of external factors. Generally, four pluses mean it is most serious. The less\\rthe number of plus is, the better it is; it proves that the probability of the disease factors in the body\\ris lower.\\r4. Age of Ligament: this indicator is an integrated parameter obtained through the above four\\rindicators, and the results are generally in 10% -40%. The greater value proves the degree of\\rdegenerative diseases or aging is larger, and contrariwise it proves the physique and the human\\rimmunity are stronger.\\rThe test results for reference only and not as a diagnostic conclusion.\\rPage 23 of 97  \\\n",
       "0                                       Testing Item                                                                                                                                                                                                                                                                                                                                                                                                                                                                                                                                                                                                                                                                                                                                                                                                                                                                                                                                                                                                                                                                                                                                                                                                                                                                                                                                                                                                                                                                                                                                                                                                                                                                                \n",
       "1                  Lumbar Fiber Protruding Dimension                                                                                                                                                                                                                                                                                                                                                                                                                                                                                                                                                                                                                                                                                                                                                                                                                                                                                                                                                                                                                                                                                                                                                                                                                                                                                                                                                                                                                                                                                                                                                                                                                                                                                \n",
       "2                 Adhesion Degree of Shoulder Muscle                                                                                                                                                                                                                                                                                                                                                                                                                                                                                                                                                                                                                                                                                                                                                                                                                                                                                                                                                                                                                                                                                                                                                                                                                                                                                                                                                                                                                                                                                                                                                                                                                                                                                \n",
       "3                            Limbs Circulation Limit                                                                                                                                                                                                                                                                                                                                                                                                                                                                                                                                                                                                                                                                                                                                                                                                                                                                                                                                                                                                                                                                                                                                                                                                                                                                                                                                                                                                                                                                                                                                                                                                                                                                                \n",
       "4                                    Age of Ligament                                                                                                                                                                                                                                                                                                                                                                                                                                                                                                                                                                                                                                                                                                                                                                                                                                                                                                                                                                                                                                                                                                                                                                                                                                                                                                                                                                                                                                                                                                                                                                                                                                                                                \n",
       "\n",
       "     Unnamed: 0                Unnamed: 1  \n",
       "0  Normal Range  Actual Measurement Value  \n",
       "1  No Direction              No Direction  \n",
       "2       < u 0.2                    u 0.16  \n",
       "3             +                         +  \n",
       "4       10%-40%                       32%  "
      ]
     },
     "execution_count": 22,
     "metadata": {},
     "output_type": "execute_result"
    }
   ],
   "source": [
    "df[-1]"
   ]
  },
  {
   "cell_type": "code",
   "execution_count": 4,
   "metadata": {},
   "outputs": [
    {
     "name": "stdout",
     "output_type": "stream",
     "text": [
      "4\n"
     ]
    }
   ],
   "source": [
    "print(len(df))\n"
   ]
  },
  {
   "cell_type": "code",
   "execution_count": 5,
   "metadata": {},
   "outputs": [],
   "source": [
    "s=tabulate(df[0])"
   ]
  },
  {
   "cell_type": "code",
   "execution_count": 282,
   "metadata": {},
   "outputs": [
    {
     "name": "stdout",
     "output_type": "stream",
     "text": [
      "--  ---------------------------  --------  ------  ---\n",
      " 0  Blood Viscosity              48.264 -  66.898  nan\n",
      "                                 65.371\n",
      " 1  Cholesterol Crystal          56.749 -  64.253  nan\n",
      "                                 67.522\n",
      " 2  Blood Fat                    0.481 -    1.482  nan\n",
      "                                 1.043\n",
      " 3  Vascular Resistance          0.327 -    1.397  nan\n",
      "                                 0.937\n",
      " 4  Vascular Elasticity          1.672 -    1.535  nan\n",
      "                                 1.978\n",
      " 5  Myocardial Blood Demand      0.192 -    0.475  nan\n",
      "                                 0.412\n",
      " 6  Myocardial Blood Perfusion   4.832 -    4.518  nan\n",
      "    Volume                       5.147\n",
      " 7  Myocardial Oxygen            3.321 -    3.499  nan\n",
      "    Consumption                  4.244\n",
      " 8  Stroke Volume                1.338 -    1.333  nan\n",
      "                                 1.672\n",
      " 9  Left Ventricular Ejection    0.669 -    1.263  nan\n",
      "    Impedance                    1.544\n",
      "10  Left Ventricular Effective   1.554 -    1.349  nan\n",
      "    Pump Power                   1.988\n",
      "11  Coronary Artery Elasticity   1.553 -    1.281  nan\n",
      "                                 2.187\n",
      "12  Coronary Perfusion Pressure  11.719 -  13.956  nan\n",
      "                                 18.418\n",
      "13  Cerebral Blood Vessel        0.708 -    1.757  nan\n",
      "    Elasticity                   1.942\n",
      "14  Brain Tissue Blood Supply    6.138 -    7.742  nan\n",
      "    Status                       21.396\n",
      "--  ---------------------------  --------  ------  ---\n"
     ]
    }
   ],
   "source": [
    "#Read the first element\n",
    "print(s)"
   ]
  },
  {
   "cell_type": "code",
   "execution_count": 283,
   "metadata": {},
   "outputs": [
    {
     "data": {
      "text/plain": [
       "'--  ---------------------------  --------  ------  ---\\n 0  Blood Viscosity              48.264 -  66.898  nan\\n                                 65.371\\n 1  Cholesterol Crystal          56.749 -  64.253  nan\\n                                 67.522\\n 2  Blood Fat                    0.481 -    1.482  nan\\n                                 1.043\\n 3  Vascular Resistance          0.327 -    1.397  nan\\n                                 0.937\\n 4  Vascular Elasticity          1.672 -    1.535  nan\\n                                 1.978\\n 5  Myocardial Blood Demand      0.192 -    0.475  nan\\n                                 0.412\\n 6  Myocardial Blood Perfusion   4.832 -    4.518  nan\\n    Volume                       5.147\\n 7  Myocardial Oxygen            3.321 -    3.499  nan\\n    Consumption                  4.244\\n 8  Stroke Volume                1.338 -    1.333  nan\\n                                 1.672\\n 9  Left Ventricular Ejection    0.669 -    1.263  nan\\n    Impedance                    1.544\\n10  Left Ventricular Effective   1.554 -    1.349  nan\\n    Pump Power                   1.988\\n11  Coronary Artery Elasticity   1.553 -    1.281  nan\\n                                 2.187\\n12  Coronary Perfusion Pressure  11.719 -  13.956  nan\\n                                 18.418\\n13  Cerebral Blood Vessel        0.708 -    1.757  nan\\n    Elasticity                   1.942\\n14  Brain Tissue Blood Supply    6.138 -    7.742  nan\\n    Status                       21.396\\n--  ---------------------------  --------  ------  ---'"
      ]
     },
     "execution_count": 283,
     "metadata": {},
     "output_type": "execute_result"
    }
   ],
   "source": [
    "s"
   ]
  },
  {
   "cell_type": "code",
   "execution_count": 284,
   "metadata": {},
   "outputs": [
    {
     "data": {
      "text/plain": [
       "1523"
      ]
     },
     "execution_count": 284,
     "metadata": {},
     "output_type": "execute_result"
    }
   ],
   "source": [
    "len(s)"
   ]
  },
  {
   "cell_type": "code",
   "execution_count": 285,
   "metadata": {},
   "outputs": [],
   "source": [
    "a=list()\n",
    "splits=s.split('\\n')\n",
    "for split in splits:\n",
    "    row = list(filter(None, split.split(' ')))\n",
    "    row = list(filter(lambda a: a != 'nan', row))\n",
    "    row = list(filter(lambda a: a != ' ', row))\n",
    "    row = list(filter(lambda a: a != '-', row))\n",
    "    if len(row)==1: a.append(row)\n",
    "    else: a.append(row[1:])"
   ]
  },
  {
   "cell_type": "code",
   "execution_count": 286,
   "metadata": {},
   "outputs": [
    {
     "data": {
      "text/plain": [
       "[' 0  Blood Viscosity              48.264 -  66.898  nan',\n",
       " '                                 65.371',\n",
       " ' 1  Cholesterol Crystal          56.749 -  64.253  nan',\n",
       " '                                 67.522',\n",
       " ' 2  Blood Fat                    0.481 -    1.482  nan',\n",
       " '                                 1.043',\n",
       " ' 3  Vascular Resistance          0.327 -    1.397  nan',\n",
       " '                                 0.937',\n",
       " ' 4  Vascular Elasticity          1.672 -    1.535  nan',\n",
       " '                                 1.978',\n",
       " ' 5  Myocardial Blood Demand      0.192 -    0.475  nan',\n",
       " '                                 0.412',\n",
       " ' 6  Myocardial Blood Perfusion   4.832 -    4.518  nan',\n",
       " '    Volume                       5.147',\n",
       " ' 7  Myocardial Oxygen            3.321 -    3.499  nan',\n",
       " '    Consumption                  4.244',\n",
       " ' 8  Stroke Volume                1.338 -    1.333  nan',\n",
       " '                                 1.672',\n",
       " ' 9  Left Ventricular Ejection    0.669 -    1.263  nan',\n",
       " '    Impedance                    1.544',\n",
       " '10  Left Ventricular Effective   1.554 -    1.349  nan',\n",
       " '    Pump Power                   1.988',\n",
       " '11  Coronary Artery Elasticity   1.553 -    1.281  nan',\n",
       " '                                 2.187',\n",
       " '12  Coronary Perfusion Pressure  11.719 -  13.956  nan',\n",
       " '                                 18.418',\n",
       " '13  Cerebral Blood Vessel        0.708 -    1.757  nan',\n",
       " '    Elasticity                   1.942',\n",
       " '14  Brain Tissue Blood Supply    6.138 -    7.742  nan',\n",
       " '    Status                       21.396',\n",
       " '--  ---------------------------  --------  ------  ---']"
      ]
     },
     "execution_count": 286,
     "metadata": {},
     "output_type": "execute_result"
    }
   ],
   "source": [
    "splits = splits[1:]\n",
    "splits"
   ]
  },
  {
   "cell_type": "code",
   "execution_count": 287,
   "metadata": {},
   "outputs": [],
   "source": [
    "a=a[1:-1]"
   ]
  },
  {
   "cell_type": "code",
   "execution_count": 288,
   "metadata": {},
   "outputs": [
    {
     "data": {
      "text/plain": [
       "[['Blood', 'Viscosity', '48.264', '66.898'],\n",
       " ['65.371'],\n",
       " ['Cholesterol', 'Crystal', '56.749', '64.253'],\n",
       " ['67.522'],\n",
       " ['Blood', 'Fat', '0.481', '1.482'],\n",
       " ['1.043'],\n",
       " ['Vascular', 'Resistance', '0.327', '1.397'],\n",
       " ['0.937'],\n",
       " ['Vascular', 'Elasticity', '1.672', '1.535'],\n",
       " ['1.978'],\n",
       " ['Myocardial', 'Blood', 'Demand', '0.192', '0.475'],\n",
       " ['0.412'],\n",
       " ['Myocardial', 'Blood', 'Perfusion', '4.832', '4.518'],\n",
       " ['5.147'],\n",
       " ['Myocardial', 'Oxygen', '3.321', '3.499'],\n",
       " ['4.244'],\n",
       " ['Stroke', 'Volume', '1.338', '1.333'],\n",
       " ['1.672'],\n",
       " ['Left', 'Ventricular', 'Ejection', '0.669', '1.263'],\n",
       " ['1.544'],\n",
       " ['Left', 'Ventricular', 'Effective', '1.554', '1.349'],\n",
       " ['Power', '1.988'],\n",
       " ['Coronary', 'Artery', 'Elasticity', '1.553', '1.281'],\n",
       " ['2.187'],\n",
       " ['Coronary', 'Perfusion', 'Pressure', '11.719', '13.956'],\n",
       " ['18.418'],\n",
       " ['Cerebral', 'Blood', 'Vessel', '0.708', '1.757'],\n",
       " ['1.942'],\n",
       " ['Brain', 'Tissue', 'Blood', 'Supply', '6.138', '7.742'],\n",
       " ['21.396']]"
      ]
     },
     "execution_count": 288,
     "metadata": {},
     "output_type": "execute_result"
    }
   ],
   "source": [
    "a"
   ]
  },
  {
   "cell_type": "code",
   "execution_count": 289,
   "metadata": {},
   "outputs": [
    {
     "data": {
      "text/plain": [
       "['Blood', 'Viscosity']"
      ]
     },
     "execution_count": 289,
     "metadata": {},
     "output_type": "execute_result"
    }
   ],
   "source": [
    "z=a[0][0:-2]\n",
    "z "
   ]
  },
  {
   "cell_type": "code",
   "execution_count": 290,
   "metadata": {},
   "outputs": [],
   "source": [
    "id =000\n",
    "Disease= list()\n",
    "value=list()\n",
    "Start=list()\n",
    "End=list()\n",
    "N=list(range(1,5))"
   ]
  },
  {
   "cell_type": "code",
   "execution_count": 291,
   "metadata": {},
   "outputs": [
    {
     "data": {
      "text/plain": [
       "[1, 2, 3, 4]"
      ]
     },
     "execution_count": 291,
     "metadata": {},
     "output_type": "execute_result"
    }
   ],
   "source": [
    "N"
   ]
  },
  {
   "cell_type": "code",
   "execution_count": 292,
   "metadata": {},
   "outputs": [
    {
     "data": {
      "text/plain": [
       "48.264"
      ]
     },
     "execution_count": 292,
     "metadata": {},
     "output_type": "execute_result"
    }
   ],
   "source": [
    "float(a[0][-2])"
   ]
  },
  {
   "cell_type": "code",
   "execution_count": 293,
   "metadata": {},
   "outputs": [],
   "source": [
    "# for i in a:\n",
    "#     if len(i)<=3:\n",
    "#         End.append(float(i[-1]))\n",
    "#     else : \n",
    "#         test=\"\"\n",
    "#         disease=i[0:-2]\n",
    "#         value.append(float(i[-1]))\n",
    "#         Start.append(float(i[-2]))\n",
    "#         for i in disease:\n",
    "#             test=test+i+\" \"\n",
    "#         disease.append(test[:-1])\n",
    "# # print(id,disease,value,Start,End)"
   ]
  },
  {
   "cell_type": "code",
   "execution_count": 294,
   "metadata": {},
   "outputs": [],
   "source": [
    "for i in a:\n",
    "    test=\"\"\n",
    "    # disease=\"\"\n",
    "    # test1=\"\"\n",
    "    # disease1=\"\"\n",
    "    if len(i)<=3:\n",
    "        End.append(float(i[-1]))\n",
    "        # if len(i)>1:\n",
    "        #     disease1=a[0:-1]\n",
    "        #     for i in disease1:\n",
    "        #         test1=test1+str(i)+\" \"\n",
    "        #     disease1=\" \"+test1[:-1]\n",
    "        # print (disease1)\n",
    "    else : \n",
    "        disease=i[0:-2]\n",
    "        value.append(float(i[-1]))\n",
    "        Start.append(float(i[-2]))\n",
    "        for i in disease:\n",
    "            test=test+i+\" \"\n",
    "        disease=test\n",
    "        disease=disease[:-1]\n",
    "    Disease.append(disease)"
   ]
  },
  {
   "cell_type": "code",
   "execution_count": 295,
   "metadata": {},
   "outputs": [
    {
     "data": {
      "text/plain": [
       "['Blood Viscosity',\n",
       " 'Blood Viscosity',\n",
       " 'Cholesterol Crystal',\n",
       " 'Cholesterol Crystal',\n",
       " 'Blood Fat',\n",
       " 'Blood Fat',\n",
       " 'Vascular Resistance',\n",
       " 'Vascular Resistance',\n",
       " 'Vascular Elasticity',\n",
       " 'Vascular Elasticity',\n",
       " 'Myocardial Blood Demand',\n",
       " 'Myocardial Blood Demand',\n",
       " 'Myocardial Blood Perfusion',\n",
       " 'Myocardial Blood Perfusion',\n",
       " 'Myocardial Oxygen',\n",
       " 'Myocardial Oxygen',\n",
       " 'Stroke Volume',\n",
       " 'Stroke Volume',\n",
       " 'Left Ventricular Ejection',\n",
       " 'Left Ventricular Ejection',\n",
       " 'Left Ventricular Effective',\n",
       " 'Left Ventricular Effective',\n",
       " 'Coronary Artery Elasticity',\n",
       " 'Coronary Artery Elasticity',\n",
       " 'Coronary Perfusion Pressure',\n",
       " 'Coronary Perfusion Pressure',\n",
       " 'Cerebral Blood Vessel',\n",
       " 'Cerebral Blood Vessel',\n",
       " 'Brain Tissue Blood Supply',\n",
       " 'Brain Tissue Blood Supply']"
      ]
     },
     "execution_count": 295,
     "metadata": {},
     "output_type": "execute_result"
    }
   ],
   "source": [
    "Disease"
   ]
  },
  {
   "cell_type": "code",
   "execution_count": 296,
   "metadata": {},
   "outputs": [
    {
     "data": {
      "text/plain": [
       "['Blood Viscosity',\n",
       " 'Cholesterol Crystal',\n",
       " 'Blood Fat',\n",
       " 'Vascular Resistance',\n",
       " 'Vascular Elasticity',\n",
       " 'Myocardial Blood Demand',\n",
       " 'Myocardial Blood Perfusion',\n",
       " 'Myocardial Oxygen',\n",
       " 'Stroke Volume',\n",
       " 'Left Ventricular Ejection',\n",
       " 'Left Ventricular Effective',\n",
       " 'Coronary Artery Elasticity',\n",
       " 'Coronary Perfusion Pressure',\n",
       " 'Cerebral Blood Vessel',\n",
       " 'Brain Tissue Blood Supply']"
      ]
     },
     "execution_count": 296,
     "metadata": {},
     "output_type": "execute_result"
    }
   ],
   "source": [
    "Disease=Disease[0:-1:2]\n",
    "Disease"
   ]
  },
  {
   "cell_type": "code",
   "execution_count": 297,
   "metadata": {},
   "outputs": [
    {
     "data": {
      "text/plain": [
       "[66.898,\n",
       " 64.253,\n",
       " 1.482,\n",
       " 1.397,\n",
       " 1.535,\n",
       " 0.475,\n",
       " 4.518,\n",
       " 3.499,\n",
       " 1.333,\n",
       " 1.263,\n",
       " 1.349,\n",
       " 1.281,\n",
       " 13.956,\n",
       " 1.757,\n",
       " 7.742]"
      ]
     },
     "execution_count": 297,
     "metadata": {},
     "output_type": "execute_result"
    }
   ],
   "source": [
    "value"
   ]
  },
  {
   "cell_type": "code",
   "execution_count": 298,
   "metadata": {},
   "outputs": [
    {
     "name": "stdout",
     "output_type": "stream",
     "text": [
      "Blood Viscosity\t\t66.898\t\t48.264\t\t65.371\n",
      "Cholesterol Crystal\t\t64.253\t\t56.749\t\t67.522\n",
      "Blood Fat\t\t1.482\t\t0.481\t\t1.043\n",
      "Vascular Resistance\t\t1.397\t\t0.327\t\t0.937\n",
      "Vascular Elasticity\t\t1.535\t\t1.672\t\t1.978\n",
      "Myocardial Blood Demand\t\t0.475\t\t0.192\t\t0.412\n",
      "Myocardial Blood Perfusion\t\t4.518\t\t4.832\t\t5.147\n",
      "Myocardial Oxygen\t\t3.499\t\t3.321\t\t4.244\n",
      "Stroke Volume\t\t1.333\t\t1.338\t\t1.672\n",
      "Left Ventricular Ejection\t\t1.263\t\t0.669\t\t1.544\n",
      "Left Ventricular Effective\t\t1.349\t\t1.554\t\t1.988\n",
      "Coronary Artery Elasticity\t\t1.281\t\t1.553\t\t2.187\n",
      "Coronary Perfusion Pressure\t\t13.956\t\t11.719\t\t18.418\n",
      "Cerebral Blood Vessel\t\t1.757\t\t0.708\t\t1.942\n",
      "Brain Tissue Blood Supply\t\t7.742\t\t6.138\t\t21.396\n"
     ]
    }
   ],
   "source": [
    "for i in range(len(value)):\n",
    "    print(Disease[i]+\"\\t\"+\"\\t\"+str(value[i])+\"\\t\"+\"\\t\"+str(Start[i])+\"\\t\"+\"\\t\"+str(End[i]))"
   ]
  },
  {
   "cell_type": "code",
   "execution_count": 311,
   "metadata": {},
   "outputs": [
    {
     "name": "stdout",
     "output_type": "stream",
     "text": [
      "1\tBlood Viscosity\t\t66.898\t\t48.264\t\t65.371\n",
      "2\tCholesterol Crystal\t\t64.253\t\t56.749\t\t67.522\n",
      "3\tBlood Fat\t\t1.482\t\t0.481\t\t1.043\n",
      "4\tVascular Resistance\t\t1.397\t\t0.327\t\t0.937\n",
      "5\tVascular Elasticity\t\t1.535\t\t1.672\t\t1.978\n",
      "6\tMyocardial Blood Demand\t\t0.475\t\t0.192\t\t0.412\n",
      "7\tMyocardial Blood Perfusion\t\t4.518\t\t4.832\t\t5.147\n",
      "8\tMyocardial Oxygen\t\t3.499\t\t3.321\t\t4.244\n",
      "9\tStroke Volume\t\t1.333\t\t1.338\t\t1.672\n",
      "10\tLeft Ventricular Ejection\t\t1.263\t\t0.669\t\t1.544\n",
      "11\tLeft Ventricular Effective\t\t1.349\t\t1.554\t\t1.988\n",
      "12\tCoronary Artery Elasticity\t\t1.281\t\t1.553\t\t2.187\n",
      "13\tCoronary Perfusion Pressure\t\t13.956\t\t11.719\t\t18.418\n",
      "14\tCerebral Blood Vessel\t\t1.757\t\t0.708\t\t1.942\n"
     ]
    },
    {
     "ename": "IndexError",
     "evalue": "list index out of range",
     "output_type": "error",
     "traceback": [
      "\u001b[1;31m---------------------------------------------------------------------------\u001b[0m",
      "\u001b[1;31mIndexError\u001b[0m                                Traceback (most recent call last)",
      "\u001b[1;32mc:\\Users\\Mahmoud\\Projects\\Python projects\\Graduation\\test.ipynb Cell 23\u001b[0m in \u001b[0;36m<cell line: 1>\u001b[1;34m()\u001b[0m\n\u001b[0;32m      <a href='vscode-notebook-cell:/c%3A/Users/Mahmoud/Projects/Python%20projects/Graduation/test.ipynb#Y114sZmlsZQ%3D%3D?line=0'>1</a>\u001b[0m \u001b[39mfor\u001b[39;00m i \u001b[39min\u001b[39;00m \u001b[39mrange\u001b[39m(\u001b[39mlen\u001b[39m(value)):\n\u001b[1;32m----> <a href='vscode-notebook-cell:/c%3A/Users/Mahmoud/Projects/Python%20projects/Graduation/test.ipynb#Y114sZmlsZQ%3D%3D?line=1'>2</a>\u001b[0m     \u001b[39mprint\u001b[39m(\u001b[39mstr\u001b[39m(\u001b[39mid\u001b[39;49m[i])\u001b[39m+\u001b[39m\u001b[39m\"\u001b[39m\u001b[39m\\t\u001b[39;00m\u001b[39m\"\u001b[39m\u001b[39m+\u001b[39mDisease[i]\u001b[39m+\u001b[39m\u001b[39m\"\u001b[39m\u001b[39m\\t\u001b[39;00m\u001b[39m\"\u001b[39m\u001b[39m+\u001b[39m\u001b[39m\"\u001b[39m\u001b[39m\\t\u001b[39;00m\u001b[39m\"\u001b[39m\u001b[39m+\u001b[39m\u001b[39mstr\u001b[39m(value[i])\u001b[39m+\u001b[39m\u001b[39m\"\u001b[39m\u001b[39m\\t\u001b[39;00m\u001b[39m\"\u001b[39m\u001b[39m+\u001b[39m\u001b[39m\"\u001b[39m\u001b[39m\\t\u001b[39;00m\u001b[39m\"\u001b[39m\u001b[39m+\u001b[39m\u001b[39mstr\u001b[39m(Start[i])\u001b[39m+\u001b[39m\u001b[39m\"\u001b[39m\u001b[39m\\t\u001b[39;00m\u001b[39m\"\u001b[39m\u001b[39m+\u001b[39m\u001b[39m\"\u001b[39m\u001b[39m\\t\u001b[39;00m\u001b[39m\"\u001b[39m\u001b[39m+\u001b[39m\u001b[39mstr\u001b[39m(End[i]))\n",
      "\u001b[1;31mIndexError\u001b[0m: list index out of range"
     ]
    }
   ],
   "source": [
    "for i in range(len(value)):\n",
    "    print(str(id[i])+\"\\t\"+Disease[i]+\"\\t\"+\"\\t\"+str(value[i])+\"\\t\"+\"\\t\"+str(Start[i])+\"\\t\"+\"\\t\"+str(End[i]))"
   ]
  },
  {
   "cell_type": "code",
   "execution_count": 315,
   "metadata": {},
   "outputs": [
    {
     "name": "stdout",
     "output_type": "stream",
     "text": [
      "Database created successfully at:  <sqlite3.Connection object at 0x00000242F4ACFC40>\n"
     ]
    }
   ],
   "source": [
    "# id=list(range(1,len(Disease)-1))\n",
    "import sqlite3\n",
    "# create a sqlite database\n",
    "conn = sqlite3.connect('test.db')\n",
    "# # create a tabel called Cardiovascular and Cerebrovascular\n",
    "# conn.execute('''CREATE TABLE Cardiovascular_and_Cerebrovascular (ID INTEGER PRIMARY KEY AUTOINCREMENT, Disease_Name TEXT, Value FLOAT, Start_Value FLOAT, End_Value FLOAT);''')\n",
    "# # show database path in computer\n",
    "print(\"Database created successfully at: \", sqlite3.connect('test.db'))\n",
    "for i in range(len(value)):\n",
    "    # insert my data into the table\n",
    "    conn.execute(\"INSERT INTO Cardiovascular_and_Cerebrovascular (Disease_Name,Value,Start_Value,End_Value) VALUES (?,?,?,?)\",(Disease[i],value[i],Start[i],End[i]))\n",
    "# save the changes\n",
    "conn.commit()\n",
    "# close the connection\n",
    "conn.close()"
   ]
  },
  {
   "cell_type": "code",
   "execution_count": 316,
   "metadata": {},
   "outputs": [
    {
     "name": "stdout",
     "output_type": "stream",
     "text": [
      "ID =  1\n",
      "Disease_Name =  Blood Viscosity\n",
      "Value =  66.898\n",
      "Start_Value =  48.264\n",
      "End_Value =  65.371 \n",
      "\n",
      "ID =  2\n",
      "Disease_Name =  Cholesterol Crystal\n",
      "Value =  64.253\n",
      "Start_Value =  56.749\n",
      "End_Value =  67.522 \n",
      "\n",
      "ID =  3\n",
      "Disease_Name =  Blood Fat\n",
      "Value =  1.482\n",
      "Start_Value =  0.481\n",
      "End_Value =  1.043 \n",
      "\n",
      "ID =  4\n",
      "Disease_Name =  Vascular Resistance\n",
      "Value =  1.397\n",
      "Start_Value =  0.327\n",
      "End_Value =  0.937 \n",
      "\n",
      "ID =  5\n",
      "Disease_Name =  Vascular Elasticity\n",
      "Value =  1.535\n",
      "Start_Value =  1.672\n",
      "End_Value =  1.978 \n",
      "\n",
      "ID =  6\n",
      "Disease_Name =  Myocardial Blood Demand\n",
      "Value =  0.475\n",
      "Start_Value =  0.192\n",
      "End_Value =  0.412 \n",
      "\n",
      "ID =  7\n",
      "Disease_Name =  Myocardial Blood Perfusion\n",
      "Value =  4.518\n",
      "Start_Value =  4.832\n",
      "End_Value =  5.147 \n",
      "\n",
      "ID =  8\n",
      "Disease_Name =  Myocardial Oxygen\n",
      "Value =  3.499\n",
      "Start_Value =  3.321\n",
      "End_Value =  4.244 \n",
      "\n",
      "ID =  9\n",
      "Disease_Name =  Stroke Volume\n",
      "Value =  1.333\n",
      "Start_Value =  1.338\n",
      "End_Value =  1.672 \n",
      "\n",
      "ID =  10\n",
      "Disease_Name =  Left Ventricular Ejection\n",
      "Value =  1.263\n",
      "Start_Value =  0.669\n",
      "End_Value =  1.544 \n",
      "\n",
      "ID =  11\n",
      "Disease_Name =  Left Ventricular Effective\n",
      "Value =  1.349\n",
      "Start_Value =  1.554\n",
      "End_Value =  1.988 \n",
      "\n",
      "ID =  12\n",
      "Disease_Name =  Coronary Artery Elasticity\n",
      "Value =  1.281\n",
      "Start_Value =  1.553\n",
      "End_Value =  2.187 \n",
      "\n",
      "ID =  13\n",
      "Disease_Name =  Coronary Perfusion Pressure\n",
      "Value =  13.956\n",
      "Start_Value =  11.719\n",
      "End_Value =  18.418 \n",
      "\n",
      "ID =  14\n",
      "Disease_Name =  Cerebral Blood Vessel\n",
      "Value =  1.757\n",
      "Start_Value =  0.708\n",
      "End_Value =  1.942 \n",
      "\n",
      "ID =  15\n",
      "Disease_Name =  Brain Tissue Blood Supply\n",
      "Value =  7.742\n",
      "Start_Value =  6.138\n",
      "End_Value =  21.396 \n",
      "\n"
     ]
    }
   ],
   "source": [
    "# show the data in the table\n",
    "conn = sqlite3.connect('test.db')\n",
    "cursor = conn.execute(\"SELECT * from Cardiovascular_and_Cerebrovascular\")\n",
    "for row in cursor:\n",
    "    print (\"ID = \", row[0])\n",
    "    print (\"Disease_Name = \", row[1])\n",
    "    print (\"Value = \", row[2])\n",
    "    print (\"Start_Value = \", row[3])\n",
    "    print (\"End_Value = \", row[4], \"\\n\")\n",
    "conn.close()"
   ]
  },
  {
   "cell_type": "code",
   "execution_count": null,
   "metadata": {},
   "outputs": [],
   "source": []
  },
  {
   "cell_type": "code",
   "execution_count": null,
   "metadata": {},
   "outputs": [],
   "source": []
  },
  {
   "cell_type": "code",
   "execution_count": null,
   "metadata": {},
   "outputs": [],
   "source": []
  },
  {
   "cell_type": "code",
   "execution_count": 262,
   "metadata": {},
   "outputs": [],
   "source": [
    "# make user insert data into the table\n",
    "id = input(\"Enter ID: \")\n",
    "Disease = input(\"Enter Disease Name: \")\n",
    "value = input(\"Enter Value: \")\n",
    "Start = input(\"Enter Start Value: \")\n",
    "End = input(\"Enter End Value: \")\n",
    "# insert my data into the table\n",
    "conn.execute(\"INSERT INTO Cardiovascular_and_Cerebrovascular (ID, Disease_Name, Value, Start_Value, End_Value) VALUES (?, ?, ?, ?, ?);\" , (id, Disease, value, Start, End))\n",
    "# save the changes\n",
    "conn.commit()\n",
    "# close the connection\n",
    "conn.close()\n"
   ]
  },
  {
   "cell_type": "code",
   "execution_count": 263,
   "metadata": {},
   "outputs": [
    {
     "name": "stdout",
     "output_type": "stream",
     "text": [
      "ID =  1\n",
      "Disease_Name =  Mahmoud\n",
      "Value =  15.0\n",
      "Start_Value =  12.0\n",
      "End_Value =  20.0 \n",
      "\n",
      "Operation done successfully\n"
     ]
    }
   ],
   "source": [
    "# show the data in the table\n",
    "conn = sqlite3.connect('test.db')\n",
    "cursor = conn.execute(\"SELECT ID, Disease_Name, Value, Start_Value, End_Value from Cardiovascular_and_Cerebrovascular\")\n",
    "for row in cursor:\n",
    "    print (\"ID = \", row[0])\n",
    "    print (\"Disease_Name = \", row[1])\n",
    "    print (\"Value = \", row[2])\n",
    "    print (\"Start_Value = \", row[3])\n",
    "    print (\"End_Value = \", row[4], \"\\n\")\n",
    "print (\"Operation done successfully\")\n",
    "conn.close()\n"
   ]
  },
  {
   "cell_type": "code",
   "execution_count": 200,
   "metadata": {},
   "outputs": [
    {
     "data": {
      "text/plain": [
       "'Brain Tissue Blood Supply'"
      ]
     },
     "execution_count": 200,
     "metadata": {},
     "output_type": "execute_result"
    }
   ],
   "source": [
    "disease"
   ]
  },
  {
   "cell_type": "code",
   "execution_count": 193,
   "metadata": {},
   "outputs": [
    {
     "data": {
      "text/plain": [
       "'Brain Tissue Blood Supply '"
      ]
     },
     "execution_count": 193,
     "metadata": {},
     "output_type": "execute_result"
    }
   ],
   "source": [
    "test=\"\"\n",
    "for i in disease:\n",
    "    test=test+i+\" \"\n",
    "disease=test\n",
    "test"
   ]
  },
  {
   "cell_type": "code",
   "execution_count": 194,
   "metadata": {},
   "outputs": [
    {
     "data": {
      "text/plain": [
       "'Brain Tissue Blood Supply'"
      ]
     },
     "execution_count": 194,
     "metadata": {},
     "output_type": "execute_result"
    }
   ],
   "source": [
    "disease=disease[:-1]\n",
    "disease"
   ]
  },
  {
   "cell_type": "code",
   "execution_count": 253,
   "metadata": {},
   "outputs": [
    {
     "name": "stdout",
     "output_type": "stream",
     "text": [
      "0 ['Blood Viscosity', 'Cholesterol Crystal', 'Blood Fat', 'Vascular Resistance', 'Vascular Elasticity', 'Myocardial Blood Demand', 'Myocardial Blood Perfusion', 'Myocardial Oxygen', 'Stroke Volume', 'Left Ventricular Ejection', 'Left Ventricular Effective', 'Coronary Artery Elasticity', 'Coronary Perfusion Pressure', 'Cerebral Blood Vessel', 'Brain Tissue Blood Supply'] [66.898, 64.253, 1.482, 1.397, 1.535, 0.475, 4.518, 3.499, 1.333, 1.263, 1.349, 1.281, 13.956, 1.757, 7.742] [48.264, 56.749, 0.481, 0.327, 1.672, 0.192, 4.832, 3.321, 1.338, 0.669, 1.554, 1.553, 11.719, 0.708, 6.138] [65.371, 67.522, 1.043, 0.937, 1.978, 0.412, 5.147, 4.244, 1.672, 1.544, 1.988, 2.187, 18.418, 1.942, 21.396]\n"
     ]
    }
   ],
   "source": [
    "print(id,disease,value,Start,End)"
   ]
  },
  {
   "cell_type": "code",
   "execution_count": 189,
   "metadata": {},
   "outputs": [
    {
     "data": {
      "text/plain": [
       "'Brain Tissue Blood Supply '"
      ]
     },
     "execution_count": 189,
     "metadata": {},
     "output_type": "execute_result"
    }
   ],
   "source": []
  },
  {
   "cell_type": "code",
   "execution_count": 190,
   "metadata": {},
   "outputs": [
    {
     "data": {
      "text/plain": [
       "'Brain Tissue Blood Supply '"
      ]
     },
     "execution_count": 190,
     "metadata": {},
     "output_type": "execute_result"
    }
   ],
   "source": [
    "disease"
   ]
  },
  {
   "cell_type": "code",
   "execution_count": null,
   "metadata": {},
   "outputs": [],
   "source": []
  },
  {
   "cell_type": "code",
   "execution_count": 94,
   "metadata": {},
   "outputs": [
    {
     "name": "stdout",
     "output_type": "stream",
     "text": [
      "Note: you may need to restart the kernel to use updated packages.\n"
     ]
    },
    {
     "name": "stderr",
     "output_type": "stream",
     "text": [
      "ERROR: Could not find a version that satisfies the requirement sqlite3 (from versions: none)\n",
      "ERROR: No matching distribution found for sqlite3\n",
      "WARNING: You are using pip version 22.0.4; however, version 22.2.2 is available.\n",
      "You should consider upgrading via the 'c:\\Users\\Mahmoud\\AppData\\Local\\Programs\\Python\\Python310\\python.exe -m pip install --upgrade pip' command.\n"
     ]
    }
   ],
   "source": [
    "pip install sqlite3"
   ]
  },
  {
   "cell_type": "code",
   "execution_count": 107,
   "metadata": {},
   "outputs": [],
   "source": [
    "import sqlite3"
   ]
  },
  {
   "cell_type": "code",
   "execution_count": null,
   "metadata": {},
   "outputs": [],
   "source": [
    "# create a sqlite database\n",
    "conn = sqlite3.connect('test.db')\n",
    "# create a tabel called Cardiovascular and Cerebrovascular\n",
    "conn.execute('''CREATE TABLE Cardiovascular_and_Cerebrovascular (ID INTEGER PRIMARY KEY AUTOINCREMENT, Disease_Name TEXT, Value FLOAT, Start_Value FLOAT, End_Value FLOAT);''')\n",
    "# show database path in computer\n",
    "print(\"Database created successfully at: \", sqlite3.connect('test.db'))\n",
    "# insert my data into the table\n",
    "conn.execute(\"INSERT INTO Cardiovascular_and_Cerebrovascular (Disease_Name, Value, Start_Value, End_Value) VALUES ('Hypertension', 0.0, 0.0, 0.0);\")\n",
    "# Update the table\n",
    "conn.execute(\"UPDATE Cardiovascular_and_Cerebrovascular SET Value = 0.0, Start_Value = 0.0, End_Value = 0.0 WHERE Disease_Name = 'Hypertension';\")\n",
    "# Delete the table\n",
    "conn.execute(\"DELETE FROM Cardiovascular_and_Cerebrovascular WHERE Disease_Name = 'Hypertension';\")\n",
    "# show the table\n",
    "cursor = conn.execute(\"SELECT Disease_Name, Value, Start_Value, End_Value from Cardiovascular_and_Cerebrovascular\")\n",
    "for row in cursor:\n",
    "    print(\"Disease_Name = \", row[0])\n",
    "    print(\"Value = \", row[1])\n",
    "    print(\"Start_Value = \", row[2])\n",
    "    print(\"End_Value = \", row[3], \"\\n\")\n",
    "# save the changes\n",
    "conn.commit()\n",
    "# close the connection\n",
    "conn.close()"
   ]
  },
  {
   "cell_type": "code",
   "execution_count": null,
   "metadata": {},
   "outputs": [],
   "source": [
    "sqlite_insert_with_param = \"\"\"INSERT INTO SqliteDb_developers\n",
    "                    (id, name, email, joining_date, salary) \n",
    "                    VALUES (?, ?, ?, ?, ?);\"\"\"\n",
    "\n",
    "data_tuple = (np.random.randint(5), a[1][0:-2], , joinDate, salary)\n",
    "conn.execute(sqlite_insert_with_param, data_tuple)\n",
    "conn.commit()\n",
    "print(\"Python Variables inserted successfully into SqliteDb_developers table\")\n",
    "\n",
    "conn.close()"
   ]
  },
  {
   "cell_type": "code",
   "execution_count": null,
   "metadata": {},
   "outputs": [],
   "source": []
  },
  {
   "cell_type": "code",
   "execution_count": null,
   "metadata": {},
   "outputs": [],
   "source": []
  },
  {
   "cell_type": "code",
   "execution_count": null,
   "metadata": {},
   "outputs": [],
   "source": []
  },
  {
   "cell_type": "code",
   "execution_count": 75,
   "metadata": {},
   "outputs": [],
   "source": [
    "b=list()\n",
    "c=0\n",
    "for i in a:\n",
    "    row=i\n",
    "    if len(row)==1: b.append(row)\n",
    "    else: b.append(row[1:])"
   ]
  },
  {
   "cell_type": "code",
   "execution_count": 76,
   "metadata": {},
   "outputs": [
    {
     "data": {
      "text/plain": [
       "[['Blood', 'Viscosity', '48.264', '66.898'],\n",
       " ['65.371'],\n",
       " ['Cholesterol', 'Crystal', '56.749', '64.253'],\n",
       " ['67.522'],\n",
       " ['Blood', 'Fat', '0.481', '1.482'],\n",
       " ['1.043'],\n",
       " ['Vascular', 'Resistance', '0.327', '1.397'],\n",
       " ['0.937'],\n",
       " ['Vascular', 'Elasticity', '1.672', '1.535'],\n",
       " ['1.978'],\n",
       " ['Myocardial', 'Blood', 'Demand', '0.192', '0.475'],\n",
       " ['0.412'],\n",
       " ['Myocardial', 'Blood', 'Perfusion', '4.832', '4.518'],\n",
       " ['5.147'],\n",
       " ['Myocardial', 'Oxygen', '3.321', '3.499'],\n",
       " ['4.244'],\n",
       " ['Stroke', 'Volume', '1.338', '1.333'],\n",
       " ['1.672'],\n",
       " ['Left', 'Ventricular', 'Ejection', '0.669', '1.263'],\n",
       " ['1.544'],\n",
       " ['Left', 'Ventricular', 'Effective', '1.554', '1.349'],\n",
       " ['Power', '1.988'],\n",
       " ['Coronary', 'Artery', 'Elasticity', '1.553', '1.281'],\n",
       " ['2.187'],\n",
       " ['Coronary', 'Perfusion', 'Pressure', '11.719', '13.956'],\n",
       " ['18.418'],\n",
       " ['Cerebral', 'Blood', 'Vessel', '0.708', '1.757'],\n",
       " ['1.942'],\n",
       " ['Brain', 'Tissue', 'Blood', 'Supply', '6.138', '7.742'],\n",
       " ['21.396']]"
      ]
     },
     "execution_count": 76,
     "metadata": {},
     "output_type": "execute_result"
    }
   ],
   "source": [
    "b"
   ]
  },
  {
   "cell_type": "code",
   "execution_count": null,
   "metadata": {},
   "outputs": [],
   "source": []
  },
  {
   "cell_type": "code",
   "execution_count": null,
   "metadata": {},
   "outputs": [],
   "source": []
  },
  {
   "cell_type": "code",
   "execution_count": null,
   "metadata": {},
   "outputs": [],
   "source": []
  },
  {
   "cell_type": "code",
   "execution_count": null,
   "metadata": {},
   "outputs": [],
   "source": []
  }
 ],
 "metadata": {
  "kernelspec": {
   "display_name": "Python 3.10.1 64-bit",
   "language": "python",
   "name": "python3"
  },
  "language_info": {
   "codemirror_mode": {
    "name": "ipython",
    "version": 3
   },
   "file_extension": ".py",
   "mimetype": "text/x-python",
   "name": "python",
   "nbconvert_exporter": "python",
   "pygments_lexer": "ipython3",
   "version": "3.10.1"
  },
  "orig_nbformat": 4,
  "vscode": {
   "interpreter": {
    "hash": "afb734500600fd355917ca529030176ea0ca205570884b88f2f6f7d791fd3fbe"
   }
  }
 },
 "nbformat": 4,
 "nbformat_minor": 2
}
